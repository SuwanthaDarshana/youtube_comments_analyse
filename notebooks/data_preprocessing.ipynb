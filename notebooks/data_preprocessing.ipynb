{
 "cells": [
  {
   "cell_type": "code",
   "execution_count": 4,
   "id": "2c608c74-5f4a-4f0b-b7fc-952ff41b4882",
   "metadata": {},
   "outputs": [],
   "source": [
    "import numpy as np\n",
    "import pandas as pd\n",
    "import matplotlib.pyplot as plt"
   ]
  },
  {
   "cell_type": "code",
   "execution_count": 5,
   "id": "6b3602cc-ab73-4772-9444-f17cb292ada0",
   "metadata": {},
   "outputs": [],
   "source": [
    "data = pd.read_csv('../artifacts/comment_dataset.csv',keep_default_na=False)"
   ]
  },
  {
   "cell_type": "code",
   "execution_count": 6,
   "id": "38a22982-99e7-441a-9d53-bb08b056a21b",
   "metadata": {},
   "outputs": [
    {
     "name": "stdout",
     "output_type": "stream",
     "text": [
      "['BaseballBat' 'HitAndRun' 'LipKissing' 'BombExplotionInPublic'\n",
      " 'KillCowWithKnife' 'None']\n"
     ]
    }
   ],
   "source": [
    "print(data['label'].unique())"
   ]
  },
  {
   "cell_type": "code",
   "execution_count": 7,
   "id": "7dfdad77-a800-47da-b5b2-3a237ea2dcee",
   "metadata": {},
   "outputs": [
    {
     "data": {
      "text/plain": [
       "(17548, 3)"
      ]
     },
     "execution_count": 7,
     "metadata": {},
     "output_type": "execute_result"
    }
   ],
   "source": [
    "data.shape"
   ]
  },
  {
   "cell_type": "code",
   "execution_count": 8,
   "id": "9eeaad2c-ba55-4698-bd01-69becf5c5da4",
   "metadata": {},
   "outputs": [
    {
     "data": {
      "text/html": [
       "<div>\n",
       "<style scoped>\n",
       "    .dataframe tbody tr th:only-of-type {\n",
       "        vertical-align: middle;\n",
       "    }\n",
       "\n",
       "    .dataframe tbody tr th {\n",
       "        vertical-align: top;\n",
       "    }\n",
       "\n",
       "    .dataframe thead th {\n",
       "        text-align: right;\n",
       "    }\n",
       "</style>\n",
       "<table border=\"1\" class=\"dataframe\">\n",
       "  <thead>\n",
       "    <tr style=\"text-align: right;\">\n",
       "      <th></th>\n",
       "      <th>id</th>\n",
       "      <th>comment</th>\n",
       "      <th>label</th>\n",
       "    </tr>\n",
       "  </thead>\n",
       "  <tbody>\n",
       "    <tr>\n",
       "      <th>0</th>\n",
       "      <td>1</td>\n",
       "      <td>මෑන් අයිඩීක් ඔබේ පරිගණක පිරිවිතර මොනවාද, නමුත්...</td>\n",
       "      <td>BaseballBat</td>\n",
       "    </tr>\n",
       "    <tr>\n",
       "      <th>1</th>\n",
       "      <td>2</td>\n",
       "      <td>සහෝදරයා ඔබට වෙව්ට කළේ කුමක්ද?</td>\n",
       "      <td>BaseballBat</td>\n",
       "    </tr>\n",
       "    <tr>\n",
       "      <th>2</th>\n",
       "      <td>3</td>\n",
       "      <td>දුප්පත් විල්ලෙයි</td>\n",
       "      <td>BaseballBat</td>\n",
       "    </tr>\n",
       "    <tr>\n",
       "      <th>3</th>\n",
       "      <td>4</td>\n",
       "      <td>බ්රෝ කුරිරු යක්ෂයා බවට පත් විය</td>\n",
       "      <td>BaseballBat</td>\n",
       "    </tr>\n",
       "    <tr>\n",
       "      <th>4</th>\n",
       "      <td>5</td>\n",
       "      <td>අපොයි.</td>\n",
       "      <td>BaseballBat</td>\n",
       "    </tr>\n",
       "  </tbody>\n",
       "</table>\n",
       "</div>"
      ],
      "text/plain": [
       "   id                                            comment        label\n",
       "0   1  මෑන් අයිඩීක් ඔබේ පරිගණක පිරිවිතර මොනවාද, නමුත්...  BaseballBat\n",
       "1   2                      සහෝදරයා ඔබට වෙව්ට කළේ කුමක්ද?  BaseballBat\n",
       "2   3                                   දුප්පත් විල්ලෙයි  BaseballBat\n",
       "3   4                     බ්රෝ කුරිරු යක්ෂයා බවට පත් විය  BaseballBat\n",
       "4   5                                             අපොයි.  BaseballBat"
      ]
     },
     "execution_count": 8,
     "metadata": {},
     "output_type": "execute_result"
    }
   ],
   "source": [
    "data.head()"
   ]
  },
  {
   "cell_type": "code",
   "execution_count": 9,
   "id": "87dd104f-7205-459a-888d-2a59d0d1b3e8",
   "metadata": {},
   "outputs": [
    {
     "data": {
      "text/html": [
       "<div>\n",
       "<style scoped>\n",
       "    .dataframe tbody tr th:only-of-type {\n",
       "        vertical-align: middle;\n",
       "    }\n",
       "\n",
       "    .dataframe tbody tr th {\n",
       "        vertical-align: top;\n",
       "    }\n",
       "\n",
       "    .dataframe thead th {\n",
       "        text-align: right;\n",
       "    }\n",
       "</style>\n",
       "<table border=\"1\" class=\"dataframe\">\n",
       "  <thead>\n",
       "    <tr style=\"text-align: right;\">\n",
       "      <th></th>\n",
       "      <th>id</th>\n",
       "      <th>comment</th>\n",
       "      <th>label</th>\n",
       "    </tr>\n",
       "  </thead>\n",
       "  <tbody>\n",
       "    <tr>\n",
       "      <th>17528</th>\n",
       "      <td>17529</td>\n",
       "      <td>mahinda රජරාජපක්ෂ</td>\n",
       "      <td>None</td>\n",
       "    </tr>\n",
       "    <tr>\n",
       "      <th>17529</th>\n",
       "      <td>17530</td>\n",
       "      <td>ස්‍රෙස්ට හදවතෙ විරොදාර සිංහනායකයා</td>\n",
       "      <td>None</td>\n",
       "    </tr>\n",
       "    <tr>\n",
       "      <th>17530</th>\n",
       "      <td>17531</td>\n",
       "      <td></td>\n",
       "      <td>None</td>\n",
       "    </tr>\n",
       "    <tr>\n",
       "      <th>17531</th>\n",
       "      <td>17532</td>\n",
       "      <td>ගෞරවය දැක්වීම</td>\n",
       "      <td>None</td>\n",
       "    </tr>\n",
       "    <tr>\n",
       "      <th>17532</th>\n",
       "      <td>17533</td>\n",
       "      <td></td>\n",
       "      <td>None</td>\n",
       "    </tr>\n",
       "    <tr>\n",
       "      <th>17533</th>\n",
       "      <td>17534</td>\n",
       "      <td>ජෙසෙයි</td>\n",
       "      <td>None</td>\n",
       "    </tr>\n",
       "    <tr>\n",
       "      <th>17534</th>\n",
       "      <td>17535</td>\n",
       "      <td>මාගර් නයකෝයාතනන්ද හෝරා කියියා නදී අගගරු කරන්</td>\n",
       "      <td>None</td>\n",
       "    </tr>\n",
       "    <tr>\n",
       "      <th>17535</th>\n",
       "      <td>17536</td>\n",
       "      <td></td>\n",
       "      <td>None</td>\n",
       "    </tr>\n",
       "    <tr>\n",
       "      <th>17536</th>\n",
       "      <td>17537</td>\n",
       "      <td>ඇඩටාටාටා මෙනා පුල්ඩු පුපුරාන් ඩා කලන්නි තනාකික...</td>\n",
       "      <td>None</td>\n",
       "    </tr>\n",
       "    <tr>\n",
       "      <th>17537</th>\n",
       "      <td>17538</td>\n",
       "      <td>පාට පක්ශ මොකක්උනත්  මේගෞරවය නම් ලැබියයුතුමයී</td>\n",
       "      <td>None</td>\n",
       "    </tr>\n",
       "    <tr>\n",
       "      <th>17538</th>\n",
       "      <td>17539</td>\n",
       "      <td>නියම සිංහලයා</td>\n",
       "      <td>None</td>\n",
       "    </tr>\n",
       "    <tr>\n",
       "      <th>17539</th>\n",
       "      <td>17540</td>\n",
       "      <td>මම තාලි වානරයා රාජු\\nසහ ඉනා පෙන්ඩා වෑෂිත\\nකරු ...</td>\n",
       "      <td>None</td>\n",
       "    </tr>\n",
       "    <tr>\n",
       "      <th>17540</th>\n",
       "      <td>17541</td>\n",
       "      <td>Thuwaku ussanna bhevar draar draar enala nehe ...</td>\n",
       "      <td>None</td>\n",
       "    </tr>\n",
       "    <tr>\n",
       "      <th>17541</th>\n",
       "      <td>17542</td>\n",
       "      <td>පචාලා නා</td>\n",
       "      <td>None</td>\n",
       "    </tr>\n",
       "    <tr>\n",
       "      <th>17542</th>\n",
       "      <td>17543</td>\n",
       "      <td>නියාමා කොන්ඩැක් තියානාක් තියානාක් තියානා රාජ් ...</td>\n",
       "      <td>None</td>\n",
       "    </tr>\n",
       "    <tr>\n",
       "      <th>17543</th>\n",
       "      <td>17544</td>\n",
       "      <td>අනේ හැරිම ලස්සන දවසක්</td>\n",
       "      <td>None</td>\n",
       "    </tr>\n",
       "    <tr>\n",
       "      <th>17544</th>\n",
       "      <td>17545</td>\n",
       "      <td>ඔයා හරිම හොදයි.</td>\n",
       "      <td>None</td>\n",
       "    </tr>\n",
       "    <tr>\n",
       "      <th>17545</th>\n",
       "      <td>17546</td>\n",
       "      <td>ඒ ළමයා දක්ෂ ළමයෙක්.</td>\n",
       "      <td>None</td>\n",
       "    </tr>\n",
       "    <tr>\n",
       "      <th>17546</th>\n",
       "      <td>17547</td>\n",
       "      <td>මෙතන මාර ලස්සනයි.</td>\n",
       "      <td>None</td>\n",
       "    </tr>\n",
       "    <tr>\n",
       "      <th>17547</th>\n",
       "      <td>17548</td>\n",
       "      <td>ඔයා හොඳට ඉගෙන ගන්න.</td>\n",
       "      <td>None</td>\n",
       "    </tr>\n",
       "  </tbody>\n",
       "</table>\n",
       "</div>"
      ],
      "text/plain": [
       "          id                                            comment label\n",
       "17528  17529                                  mahinda රජරාජපක්ෂ  None\n",
       "17529  17530                  ස්‍රෙස්ට හදවතෙ විරොදාර සිංහනායකයා  None\n",
       "17530  17531                                                     None\n",
       "17531  17532                                      ගෞරවය දැක්වීම  None\n",
       "17532  17533                                                     None\n",
       "17533  17534                                             ජෙසෙයි  None\n",
       "17534  17535       මාගර් නයකෝයාතනන්ද හෝරා කියියා නදී අගගරු කරන්  None\n",
       "17535  17536                                                     None\n",
       "17536  17537  ඇඩටාටාටා මෙනා පුල්ඩු පුපුරාන් ඩා කලන්නි තනාකික...  None\n",
       "17537  17538       පාට පක්ශ මොකක්උනත්  මේගෞරවය නම් ලැබියයුතුමයී  None\n",
       "17538  17539                                       නියම සිංහලයා  None\n",
       "17539  17540  මම තාලි වානරයා රාජු\\nසහ ඉනා පෙන්ඩා වෑෂිත\\nකරු ...  None\n",
       "17540  17541  Thuwaku ussanna bhevar draar draar enala nehe ...  None\n",
       "17541  17542                                           පචාලා නා  None\n",
       "17542  17543  නියාමා කොන්ඩැක් තියානාක් තියානාක් තියානා රාජ් ...  None\n",
       "17543  17544                              අනේ හැරිම ලස්සන දවසක්  None\n",
       "17544  17545                                    ඔයා හරිම හොදයි.  None\n",
       "17545  17546                                ඒ ළමයා දක්ෂ ළමයෙක්.  None\n",
       "17546  17547                                  මෙතන මාර ලස්සනයි.  None\n",
       "17547  17548                                ඔයා හොඳට ඉගෙන ගන්න.  None"
      ]
     },
     "execution_count": 9,
     "metadata": {},
     "output_type": "execute_result"
    }
   ],
   "source": [
    "data.tail(20)"
   ]
  },
  {
   "cell_type": "markdown",
   "id": "7f1f2a88-1aaf-46ed-995b-ee721775293f",
   "metadata": {},
   "source": [
    "## Data Preporcessing"
   ]
  },
  {
   "cell_type": "code",
   "execution_count": 10,
   "id": "bd5cc008-e8d9-4a37-bbff-0d570ed0cebc",
   "metadata": {},
   "outputs": [],
   "source": [
    "import re #text pattern matching\n",
    "import string"
   ]
  },
  {
   "cell_type": "code",
   "execution_count": 11,
   "id": "8b09ba18-01d6-47bf-92d6-06b7d9c9a25f",
   "metadata": {},
   "outputs": [
    {
     "data": {
      "text/plain": [
       "(17548, 3)"
      ]
     },
     "execution_count": 11,
     "metadata": {},
     "output_type": "execute_result"
    }
   ],
   "source": [
    "data.shape"
   ]
  },
  {
   "cell_type": "code",
   "execution_count": 12,
   "id": "2a448a32-5dcb-41a8-81a9-cac2dcd82ee3",
   "metadata": {},
   "outputs": [
    {
     "data": {
      "text/plain": [
       "np.int64(0)"
      ]
     },
     "execution_count": 12,
     "metadata": {},
     "output_type": "execute_result"
    }
   ],
   "source": [
    "data.duplicated().sum()"
   ]
  },
  {
   "cell_type": "code",
   "execution_count": 13,
   "id": "89814228-dcbc-4204-a737-ba9d7c771a4b",
   "metadata": {},
   "outputs": [
    {
     "data": {
      "text/plain": [
       "(17548, 3)"
      ]
     },
     "execution_count": 13,
     "metadata": {},
     "output_type": "execute_result"
    }
   ],
   "source": [
    "data.shape\n"
   ]
  },
  {
   "cell_type": "code",
   "execution_count": 14,
   "id": "b35a534f-c131-4f41-b4bf-5e7d49f7e546",
   "metadata": {},
   "outputs": [
    {
     "data": {
      "text/plain": [
       "id         0\n",
       "comment    0\n",
       "label      0\n",
       "dtype: int64"
      ]
     },
     "execution_count": 14,
     "metadata": {},
     "output_type": "execute_result"
    }
   ],
   "source": [
    "data.isnull().sum()"
   ]
  },
  {
   "cell_type": "markdown",
   "id": "6ed24456-7846-4e04-84d1-61befdb8e1e0",
   "metadata": {},
   "source": [
    "#### Remove English Characters in comment"
   ]
  },
  {
   "cell_type": "code",
   "execution_count": 15,
   "id": "0609256c-af64-4cd3-8cce-4920c6678e92",
   "metadata": {},
   "outputs": [],
   "source": [
    "def remove_english(text):\n",
    "    return re.sub(r'[a-zA-Z]', '', str(text)) # Remove englsih characters\n",
    "data['comment'] = data['comment'].apply(remove_english)"
   ]
  },
  {
   "cell_type": "markdown",
   "id": "8798ceaf-b6a0-450d-9c6d-4e1226630831",
   "metadata": {},
   "source": [
    "#### Remove duplicates based on comment"
   ]
  },
  {
   "cell_type": "code",
   "execution_count": 16,
   "id": "fe61d721-a1c6-4913-8b4b-7541d680f2b5",
   "metadata": {},
   "outputs": [],
   "source": [
    "data.drop_duplicates(subset=['comment'], inplace=True)"
   ]
  },
  {
   "cell_type": "code",
   "execution_count": 17,
   "id": "6b3f14b9-251c-4dae-b912-b96414fafc9b",
   "metadata": {},
   "outputs": [
    {
     "data": {
      "text/plain": [
       "np.int64(0)"
      ]
     },
     "execution_count": 17,
     "metadata": {},
     "output_type": "execute_result"
    }
   ],
   "source": [
    "data.duplicated().sum()"
   ]
  },
  {
   "cell_type": "code",
   "execution_count": 18,
   "id": "6ac2367d-e56d-449c-aac6-45bfdbdb0063",
   "metadata": {},
   "outputs": [
    {
     "data": {
      "text/plain": [
       "id         0\n",
       "comment    0\n",
       "label      0\n",
       "dtype: int64"
      ]
     },
     "execution_count": 18,
     "metadata": {},
     "output_type": "execute_result"
    }
   ],
   "source": [
    "data.isnull().sum()"
   ]
  },
  {
   "cell_type": "markdown",
   "id": "90959d86-a932-4369-9d41-fc2cb6b170b4",
   "metadata": {},
   "source": [
    "#### Remove links"
   ]
  },
  {
   "cell_type": "code",
   "execution_count": 19,
   "id": "ac0f41ba-7ab0-49b8-a3c1-1358909dbcd2",
   "metadata": {},
   "outputs": [],
   "source": [
    "data[\"comment\"] = data['comment'].apply(lambda x: \" \".join(re.sub(r'^https?:\\/\\/.*[\\r\\n]*', '', x, flags=re.MULTILINE) for x in x.split()))"
   ]
  },
  {
   "cell_type": "markdown",
   "id": "bc9de5ec-cf18-4c35-a116-78789bb58c44",
   "metadata": {},
   "source": [
    "#### Remove Punctuation"
   ]
  },
  {
   "cell_type": "code",
   "execution_count": 20,
   "id": "89be736c-718d-4361-8546-883ae5eb95b9",
   "metadata": {},
   "outputs": [
    {
     "data": {
      "text/plain": [
       "'!\"#$%&\\'()*+,-./:;<=>?@[\\\\]^_`{|}~'"
      ]
     },
     "execution_count": 20,
     "metadata": {},
     "output_type": "execute_result"
    }
   ],
   "source": [
    "string.punctuation"
   ]
  },
  {
   "cell_type": "code",
   "execution_count": 21,
   "id": "29b2fb20-1eb7-4877-9e64-fee93dfe9c56",
   "metadata": {},
   "outputs": [],
   "source": [
    "def remove_punctuations(text):\n",
    "    for punctuation in string.punctuation:\n",
    "        text = text.replace(punctuation, '')\n",
    "    return text\n",
    "\n",
    "data[\"comment\"] = data[\"comment\"].apply(remove_punctuations)"
   ]
  },
  {
   "cell_type": "code",
   "execution_count": 22,
   "id": "7f0ec87b-8039-4be5-8f07-40537bb82120",
   "metadata": {},
   "outputs": [
    {
     "data": {
      "text/html": [
       "<div>\n",
       "<style scoped>\n",
       "    .dataframe tbody tr th:only-of-type {\n",
       "        vertical-align: middle;\n",
       "    }\n",
       "\n",
       "    .dataframe tbody tr th {\n",
       "        vertical-align: top;\n",
       "    }\n",
       "\n",
       "    .dataframe thead th {\n",
       "        text-align: right;\n",
       "    }\n",
       "</style>\n",
       "<table border=\"1\" class=\"dataframe\">\n",
       "  <thead>\n",
       "    <tr style=\"text-align: right;\">\n",
       "      <th></th>\n",
       "      <th>id</th>\n",
       "      <th>comment</th>\n",
       "      <th>label</th>\n",
       "    </tr>\n",
       "  </thead>\n",
       "  <tbody>\n",
       "    <tr>\n",
       "      <th>0</th>\n",
       "      <td>1</td>\n",
       "      <td>මෑන් අයිඩීක් ඔබේ පරිගණක පිරිවිතර මොනවාද නමුත් ...</td>\n",
       "      <td>BaseballBat</td>\n",
       "    </tr>\n",
       "    <tr>\n",
       "      <th>1</th>\n",
       "      <td>2</td>\n",
       "      <td>සහෝදරයා ඔබට වෙව්ට කළේ කුමක්ද</td>\n",
       "      <td>BaseballBat</td>\n",
       "    </tr>\n",
       "    <tr>\n",
       "      <th>2</th>\n",
       "      <td>3</td>\n",
       "      <td>දුප්පත් විල්ලෙයි</td>\n",
       "      <td>BaseballBat</td>\n",
       "    </tr>\n",
       "    <tr>\n",
       "      <th>3</th>\n",
       "      <td>4</td>\n",
       "      <td>බ්රෝ කුරිරු යක්ෂයා බවට පත් විය</td>\n",
       "      <td>BaseballBat</td>\n",
       "    </tr>\n",
       "    <tr>\n",
       "      <th>4</th>\n",
       "      <td>5</td>\n",
       "      <td>අපොයි</td>\n",
       "      <td>BaseballBat</td>\n",
       "    </tr>\n",
       "  </tbody>\n",
       "</table>\n",
       "</div>"
      ],
      "text/plain": [
       "   id                                            comment        label\n",
       "0   1  මෑන් අයිඩීක් ඔබේ පරිගණක පිරිවිතර මොනවාද නමුත් ...  BaseballBat\n",
       "1   2                       සහෝදරයා ඔබට වෙව්ට කළේ කුමක්ද  BaseballBat\n",
       "2   3                                   දුප්පත් විල්ලෙයි  BaseballBat\n",
       "3   4                     බ්රෝ කුරිරු යක්ෂයා බවට පත් විය  BaseballBat\n",
       "4   5                                              අපොයි  BaseballBat"
      ]
     },
     "execution_count": 22,
     "metadata": {},
     "output_type": "execute_result"
    }
   ],
   "source": [
    "data.head()"
   ]
  },
  {
   "cell_type": "markdown",
   "id": "7e3dab3d-5627-46d0-9dbf-8d041b31d795",
   "metadata": {},
   "source": [
    "#### Remove Numbers"
   ]
  },
  {
   "cell_type": "code",
   "execution_count": 23,
   "id": "da52f379-d298-46fc-9ae2-c07e7444183a",
   "metadata": {},
   "outputs": [],
   "source": [
    "data[\"comment\"] = data['comment'].str.replace('\\d+', '', regex=True)"
   ]
  },
  {
   "cell_type": "code",
   "execution_count": null,
   "id": "584130d5-2ce5-47ed-9920-c21be58339da",
   "metadata": {},
   "outputs": [
    {
     "data": {
      "text/html": [
       "<div>\n",
       "<style scoped>\n",
       "    .dataframe tbody tr th:only-of-type {\n",
       "        vertical-align: middle;\n",
       "    }\n",
       "\n",
       "    .dataframe tbody tr th {\n",
       "        vertical-align: top;\n",
       "    }\n",
       "\n",
       "    .dataframe thead th {\n",
       "        text-align: right;\n",
       "    }\n",
       "</style>\n",
       "<table border=\"1\" class=\"dataframe\">\n",
       "  <thead>\n",
       "    <tr style=\"text-align: right;\">\n",
       "      <th></th>\n",
       "      <th>id</th>\n",
       "      <th>comment</th>\n",
       "      <th>label</th>\n",
       "    </tr>\n",
       "  </thead>\n",
       "  <tbody>\n",
       "    <tr>\n",
       "      <th>17469</th>\n",
       "      <td>17470</td>\n",
       "      <td>මහින්ද හොරකම් නොකලානම් සුපිරි මිනිහෙක් දරුවන්ට...</td>\n",
       "      <td>None</td>\n",
       "    </tr>\n",
       "    <tr>\n",
       "      <th>17470</th>\n",
       "      <td>17471</td>\n",
       "      <td>අනේ මෙතුමා වයසට නොගියානම්</td>\n",
       "      <td>None</td>\n",
       "    </tr>\n",
       "    <tr>\n",
       "      <th>17471</th>\n",
       "      <td>17472</td>\n",
       "      <td>දූෂිත කුණු කැබැල්ලක්</td>\n",
       "      <td>None</td>\n",
       "    </tr>\n",
       "    <tr>\n",
       "      <th>17473</th>\n",
       "      <td>17474</td>\n",
       "      <td>මට අයිටයි නායක නායක කියානාන්</td>\n",
       "      <td>None</td>\n",
       "    </tr>\n",
       "    <tr>\n",
       "      <th>17474</th>\n",
       "      <td>17475</td>\n",
       "      <td>අපේ සැබෑ සිංහයා අපි අපේ රජුට ආදරෙයි</td>\n",
       "      <td>None</td>\n",
       "    </tr>\n",
       "    <tr>\n",
       "      <th>17475</th>\n",
       "      <td>17476</td>\n",
       "      <td>ආශ්චර්යමත් නළුවා</td>\n",
       "      <td>None</td>\n",
       "    </tr>\n",
       "    <tr>\n",
       "      <th>17476</th>\n",
       "      <td>17477</td>\n",
       "      <td>එය අ</td>\n",
       "      <td>None</td>\n",
       "    </tr>\n",
       "    <tr>\n",
       "      <th>17477</th>\n",
       "      <td>17478</td>\n",
       "      <td>සංචාරක ආනවා</td>\n",
       "      <td>None</td>\n",
       "    </tr>\n",
       "    <tr>\n",
       "      <th>17478</th>\n",
       "      <td>17479</td>\n",
       "      <td>අපි නෑ කිව්වොත් ඒක නෑ තමයි අපි කරනවා කිව්වොත් ...</td>\n",
       "      <td>None</td>\n",
       "    </tr>\n",
       "    <tr>\n",
       "      <th>17480</th>\n",
       "      <td>17481</td>\n",
       "      <td>නූතන දුටුගුමුනු</td>\n",
       "      <td>None</td>\n",
       "    </tr>\n",
       "    <tr>\n",
       "      <th>17481</th>\n",
       "      <td>17482</td>\n",
       "      <td>මාලිමාවට කෝටියක් ඡන්ද හොරු ආයෙ බලයට ගේන්නෙ නෑමයි</td>\n",
       "      <td>None</td>\n",
       "    </tr>\n",
       "    <tr>\n",
       "      <th>17482</th>\n",
       "      <td>17483</td>\n",
       "      <td>මගෙ පණටත් වඩා මම මාලිමාවට ආදරෙයි අපේ මාලිමා ආණ...</td>\n",
       "      <td>None</td>\n",
       "    </tr>\n",
       "    <tr>\n",
       "      <th>17483</th>\n",
       "      <td>17484</td>\n",
       "      <td>ලොව දරුණුම ත්‍රස්තවාදය තුරන් කල නිර්භීත ගරු මහ...</td>\n",
       "      <td>None</td>\n",
       "    </tr>\n",
       "    <tr>\n",
       "      <th>17484</th>\n",
       "      <td>17485</td>\n",
       "      <td>හොර හැත්ත ලං කර ගත්තෙ නැත්තම් දේශපාලන සොරා කෑ...</td>\n",
       "      <td>None</td>\n",
       "    </tr>\n",
       "    <tr>\n",
       "      <th>17485</th>\n",
       "      <td>17486</td>\n",
       "      <td>අායුබෝ වේවා මහ රජාණනි</td>\n",
       "      <td>None</td>\n",
       "    </tr>\n",
       "    <tr>\n",
       "      <th>17486</th>\n",
       "      <td>17487</td>\n",
       "      <td>මේ තමා ලංකාවේ දුටු ගැමුණු රජ තුමාගෙන් පසු බි...</td>\n",
       "      <td>None</td>\n",
       "    </tr>\n",
       "    <tr>\n",
       "      <th>17487</th>\n",
       "      <td>17488</td>\n",
       "      <td>මේ නායකත්වය ගැන තාමත් හිතේ ගෞරවයක් තියෙනවා හැබ...</td>\n",
       "      <td>None</td>\n",
       "    </tr>\n",
       "    <tr>\n",
       "      <th>17488</th>\n",
       "      <td>17489</td>\n",
       "      <td>හොරා</td>\n",
       "      <td>None</td>\n",
       "    </tr>\n",
       "    <tr>\n",
       "      <th>17489</th>\n",
       "      <td>17490</td>\n",
       "      <td>ගිලෙන්න</td>\n",
       "      <td>None</td>\n",
       "    </tr>\n",
       "    <tr>\n",
       "      <th>17490</th>\n",
       "      <td>17491</td>\n",
       "      <td>පුරාවෙයි කරමන වරැලකි ශ්රීලන්කා මතුන් කන්කලායි ...</td>\n",
       "      <td>None</td>\n",
       "    </tr>\n",
       "    <tr>\n",
       "      <th>17491</th>\n",
       "      <td>17492</td>\n",
       "      <td>රටේ වාසනාවට පහලවූ උතුමානන්තෙරුවන් සරණයි</td>\n",
       "      <td>None</td>\n",
       "    </tr>\n",
       "    <tr>\n",
       "      <th>17494</th>\n",
       "      <td>17495</td>\n",
       "      <td>අම්මො උතුම් සිංහල ය අවුරුදු  කලින් තිබ්බ යුද්ධ...</td>\n",
       "      <td>None</td>\n",
       "    </tr>\n",
       "    <tr>\n",
       "      <th>17495</th>\n",
       "      <td>17496</td>\n",
       "      <td>බලපන් ජෙප්පො</td>\n",
       "      <td>None</td>\n",
       "    </tr>\n",
       "    <tr>\n",
       "      <th>17498</th>\n",
       "      <td>17499</td>\n",
       "      <td>අවසානෙට ඇස් වලට දැකපු එඩිතර සේනාධි නායකයා අපේ...</td>\n",
       "      <td>None</td>\n",
       "    </tr>\n",
       "    <tr>\n",
       "      <th>17500</th>\n",
       "      <td>17501</td>\n",
       "      <td>කොහොමඩා ගැමා</td>\n",
       "      <td>None</td>\n",
       "    </tr>\n",
       "    <tr>\n",
       "      <th>17501</th>\n",
       "      <td>17502</td>\n",
       "      <td>මගේ වීරයා</td>\n",
       "      <td>None</td>\n",
       "    </tr>\n",
       "    <tr>\n",
       "      <th>17502</th>\n",
       "      <td>17503</td>\n",
       "      <td>ඔබතුමා සිංහල අපව නියොජනය කලාඅනුර කුමාරට නැත්තෙ...</td>\n",
       "      <td>None</td>\n",
       "    </tr>\n",
       "    <tr>\n",
       "      <th>17506</th>\n",
       "      <td>17507</td>\n",
       "      <td>යුද්දෙ දිනන්න කලින් ඉඳපු මහින්ද රාජපක්ශ කියන න...</td>\n",
       "      <td>None</td>\n",
       "    </tr>\n",
       "    <tr>\n",
       "      <th>17508</th>\n",
       "      <td>17509</td>\n",
       "      <td>මීවලජ් කොන්ඩැක් තියානා වෙන්ක් හිටියාඩා ජෙප්නි</td>\n",
       "      <td>None</td>\n",
       "    </tr>\n",
       "    <tr>\n",
       "      <th>17509</th>\n",
       "      <td>17510</td>\n",
       "      <td>අප්පච්චි ආදරෙයි</td>\n",
       "      <td>None</td>\n",
       "    </tr>\n",
       "    <tr>\n",
       "      <th>17510</th>\n",
       "      <td>17511</td>\n",
       "      <td>මෙතුමා හොදයි තනියෙන් දේවල් කරපු කළේ දැන් මෙතුම...</td>\n",
       "      <td>None</td>\n",
       "    </tr>\n",
       "    <tr>\n",
       "      <th>17514</th>\n",
       "      <td>17515</td>\n",
       "      <td>ලෝකයේ පජාති ජාතිය සින්හල</td>\n",
       "      <td>None</td>\n",
       "    </tr>\n",
       "    <tr>\n",
       "      <th>17516</th>\n",
       "      <td>17517</td>\n",
       "      <td>මම ඔබට ආදරෙයි</td>\n",
       "      <td>None</td>\n",
       "    </tr>\n",
       "    <tr>\n",
       "      <th>17517</th>\n",
       "      <td>17518</td>\n",
       "      <td>වොට් දේශපාලනයේ දී වලින් අයින් රුවන් ඩුසි</td>\n",
       "      <td>None</td>\n",
       "    </tr>\n",
       "    <tr>\n",
       "      <th>17518</th>\n",
       "      <td>17519</td>\n",
       "      <td>කල්ලි බංග් යානා ඩබ්ලිව් පියාසැරි</td>\n",
       "      <td>None</td>\n",
       "    </tr>\n",
       "    <tr>\n",
       "      <th>17519</th>\n",
       "      <td>17520</td>\n",
       "      <td>ඒබීව් පොලිස් විකාශය වන නෙවායි</td>\n",
       "      <td>None</td>\n",
       "    </tr>\n",
       "    <tr>\n",
       "      <th>17520</th>\n",
       "      <td>17521</td>\n",
       "      <td></td>\n",
       "      <td>None</td>\n",
       "    </tr>\n",
       "    <tr>\n",
       "      <th>17522</th>\n",
       "      <td>17523</td>\n",
       "      <td>මෙන්න සිංහයා පච කෙලලා අපිට නැති කළ නියම නායකයා</td>\n",
       "      <td>None</td>\n",
       "    </tr>\n",
       "    <tr>\n",
       "      <th>17523</th>\n",
       "      <td>17524</td>\n",
       "      <td>එදා මෙයා මෙක නොකල නං අපි අදවෙනකොට ඉවරයි</td>\n",
       "      <td>None</td>\n",
       "    </tr>\n",
       "    <tr>\n",
       "      <th>17524</th>\n",
       "      <td>17525</td>\n",
       "      <td>මම ගෞරවය ප්රකාශ කරන්නේ මෙම ශක්තිමත් පිටුපස අස්...</td>\n",
       "      <td>None</td>\n",
       "    </tr>\n",
       "    <tr>\n",
       "      <th>17525</th>\n",
       "      <td>17526</td>\n",
       "      <td>ṃḷọ ā පළමු දිනයට යටින්</td>\n",
       "      <td>None</td>\n",
       "    </tr>\n",
       "    <tr>\n",
       "      <th>17526</th>\n",
       "      <td>17527</td>\n",
       "      <td>යුද්ධෙන් පස්සේ සිද්ධි කොහොම වුණත් ඒ එඩිතර කොන්...</td>\n",
       "      <td>None</td>\n",
       "    </tr>\n",
       "    <tr>\n",
       "      <th>17527</th>\n",
       "      <td>17528</td>\n",
       "      <td>සාර්ථක පැල්ල්වොලොන් නාසය</td>\n",
       "      <td>None</td>\n",
       "    </tr>\n",
       "    <tr>\n",
       "      <th>17528</th>\n",
       "      <td>17529</td>\n",
       "      <td>රජරාජපක්ෂ</td>\n",
       "      <td>None</td>\n",
       "    </tr>\n",
       "    <tr>\n",
       "      <th>17529</th>\n",
       "      <td>17530</td>\n",
       "      <td>ස්‍රෙස්ට හදවතෙ විරොදාර සිංහනායකයා</td>\n",
       "      <td>None</td>\n",
       "    </tr>\n",
       "    <tr>\n",
       "      <th>17531</th>\n",
       "      <td>17532</td>\n",
       "      <td>ගෞරවය දැක්වීම</td>\n",
       "      <td>None</td>\n",
       "    </tr>\n",
       "    <tr>\n",
       "      <th>17533</th>\n",
       "      <td>17534</td>\n",
       "      <td>ජෙසෙයි</td>\n",
       "      <td>None</td>\n",
       "    </tr>\n",
       "    <tr>\n",
       "      <th>17534</th>\n",
       "      <td>17535</td>\n",
       "      <td>මාගර් නයකෝයාතනන්ද හෝරා කියියා නදී අගගරු කරන්</td>\n",
       "      <td>None</td>\n",
       "    </tr>\n",
       "    <tr>\n",
       "      <th>17536</th>\n",
       "      <td>17537</td>\n",
       "      <td>ඇඩටාටාටා මෙනා පුල්ඩු පුපුරාන් ඩා කලන්නි තනාකික...</td>\n",
       "      <td>None</td>\n",
       "    </tr>\n",
       "    <tr>\n",
       "      <th>17537</th>\n",
       "      <td>17538</td>\n",
       "      <td>පාට පක්ශ මොකක්උනත් මේගෞරවය නම් ලැබියයුතුමයී</td>\n",
       "      <td>None</td>\n",
       "    </tr>\n",
       "    <tr>\n",
       "      <th>17538</th>\n",
       "      <td>17539</td>\n",
       "      <td>නියම සිංහලයා</td>\n",
       "      <td>None</td>\n",
       "    </tr>\n",
       "    <tr>\n",
       "      <th>17539</th>\n",
       "      <td>17540</td>\n",
       "      <td>මම තාලි වානරයා රාජු සහ ඉනා පෙන්ඩා වෑෂිත කරු රග...</td>\n",
       "      <td>None</td>\n",
       "    </tr>\n",
       "    <tr>\n",
       "      <th>17540</th>\n",
       "      <td>17541</td>\n",
       "      <td>වෙත හමානුවෙන් ලබා දෙයි</td>\n",
       "      <td>None</td>\n",
       "    </tr>\n",
       "    <tr>\n",
       "      <th>17541</th>\n",
       "      <td>17542</td>\n",
       "      <td>පචාලා නා</td>\n",
       "      <td>None</td>\n",
       "    </tr>\n",
       "    <tr>\n",
       "      <th>17542</th>\n",
       "      <td>17543</td>\n",
       "      <td>නියාමා කොන්ඩැක් තියානාක් තියානාක් තියානා රාජ් ...</td>\n",
       "      <td>None</td>\n",
       "    </tr>\n",
       "    <tr>\n",
       "      <th>17543</th>\n",
       "      <td>17544</td>\n",
       "      <td>අනේ හැරිම ලස්සන දවසක්</td>\n",
       "      <td>None</td>\n",
       "    </tr>\n",
       "    <tr>\n",
       "      <th>17544</th>\n",
       "      <td>17545</td>\n",
       "      <td>ඔයා හරිම හොදයි</td>\n",
       "      <td>None</td>\n",
       "    </tr>\n",
       "    <tr>\n",
       "      <th>17545</th>\n",
       "      <td>17546</td>\n",
       "      <td>ඒ ළමයා දක්ෂ ළමයෙක්</td>\n",
       "      <td>None</td>\n",
       "    </tr>\n",
       "    <tr>\n",
       "      <th>17546</th>\n",
       "      <td>17547</td>\n",
       "      <td>මෙතන මාර ලස්සනයි</td>\n",
       "      <td>None</td>\n",
       "    </tr>\n",
       "    <tr>\n",
       "      <th>17547</th>\n",
       "      <td>17548</td>\n",
       "      <td>ඔයා හොඳට ඉගෙන ගන්න</td>\n",
       "      <td>None</td>\n",
       "    </tr>\n",
       "  </tbody>\n",
       "</table>\n",
       "</div>"
      ],
      "text/plain": [
       "          id                                            comment label\n",
       "17469  17470  මහින්ද හොරකම් නොකලානම් සුපිරි මිනිහෙක් දරුවන්ට...  None\n",
       "17470  17471                          අනේ මෙතුමා වයසට නොගියානම්  None\n",
       "17471  17472                               දූෂිත කුණු කැබැල්ලක්  None\n",
       "17473  17474                       මට අයිටයි නායක නායක කියානාන්  None\n",
       "17474  17475                අපේ සැබෑ සිංහයා අපි අපේ රජුට ආදරෙයි  None\n",
       "17475  17476                                   ආශ්චර්යමත් නළුවා  None\n",
       "17476  17477                                               එය අ  None\n",
       "17477  17478                                       සංචාරක ආනවා   None\n",
       "17478  17479  අපි නෑ කිව්වොත් ඒක නෑ තමයි අපි කරනවා කිව්වොත් ...  None\n",
       "17480  17481                                    නූතන දුටුගුමුනු  None\n",
       "17481  17482   මාලිමාවට කෝටියක් ඡන්ද හොරු ආයෙ බලයට ගේන්නෙ නෑමයි  None\n",
       "17482  17483  මගෙ පණටත් වඩා මම මාලිමාවට ආදරෙයි අපේ මාලිමා ආණ...  None\n",
       "17483  17484  ලොව දරුණුම ත්‍රස්තවාදය තුරන් කල නිර්භීත ගරු මහ...  None\n",
       "17484  17485   හොර හැත්ත ලං කර ගත්තෙ නැත්තම් දේශපාලන සොරා කෑ...  None\n",
       "17485  17486                           අායුබෝ වේවා මහ රජාණනි  None\n",
       "17486  17487  මේ තමා ලංකාවේ දුටු ගැමුණු රජ තුමාගෙන් පසු බි...  None\n",
       "17487  17488  මේ නායකත්වය ගැන තාමත් හිතේ ගෞරවයක් තියෙනවා හැබ...  None\n",
       "17488  17489                                               හොරා  None\n",
       "17489  17490                                            ගිලෙන්න  None\n",
       "17490  17491  පුරාවෙයි කරමන වරැලකි ශ්රීලන්කා මතුන් කන්කලායි ...  None\n",
       "17491  17492            රටේ වාසනාවට පහලවූ උතුමානන්තෙරුවන් සරණයි  None\n",
       "17494  17495  අම්මො උතුම් සිංහල ය අවුරුදු  කලින් තිබ්බ යුද්ධ...  None\n",
       "17495  17496                                       බලපන් ජෙප්පො  None\n",
       "17498  17499   අවසානෙට ඇස් වලට දැකපු එඩිතර සේනාධි නායකයා අපේ...  None\n",
       "17500  17501                                       කොහොමඩා ගැමා  None\n",
       "17501  17502                                          මගේ වීරයා  None\n",
       "17502  17503  ඔබතුමා සිංහල අපව නියොජනය කලාඅනුර කුමාරට නැත්තෙ...  None\n",
       "17506  17507  යුද්දෙ දිනන්න කලින් ඉඳපු මහින්ද රාජපක්ශ කියන න...  None\n",
       "17508  17509      මීවලජ් කොන්ඩැක් තියානා වෙන්ක් හිටියාඩා ජෙප්නි  None\n",
       "17509  17510                                    අප්පච්චි ආදරෙයි  None\n",
       "17510  17511  මෙතුමා හොදයි තනියෙන් දේවල් කරපු කළේ දැන් මෙතුම...  None\n",
       "17514  17515                           ලෝකයේ පජාති ජාතිය සින්හල  None\n",
       "17516  17517                                 මම ඔබට ආදරෙයි       None\n",
       "17517  17518           වොට් දේශපාලනයේ දී වලින් අයින් රුවන් ඩුසි  None\n",
       "17518  17519                   කල්ලි බංග් යානා ඩබ්ලිව් පියාසැරි  None\n",
       "17519  17520                      ඒබීව් පොලිස් විකාශය වන නෙවායි  None\n",
       "17520  17521                                                     None\n",
       "17522  17523     මෙන්න සිංහයා පච කෙලලා අපිට නැති කළ නියම නායකයා  None\n",
       "17523  17524            එදා මෙයා මෙක නොකල නං අපි අදවෙනකොට ඉවරයි  None\n",
       "17524  17525  මම ගෞරවය ප්රකාශ කරන්නේ මෙම ශක්තිමත් පිටුපස අස්...  None\n",
       "17525  17526                             ṃḷọ ā පළමු දිනයට යටින්  None\n",
       "17526  17527  යුද්ධෙන් පස්සේ සිද්ධි කොහොම වුණත් ඒ එඩිතර කොන්...  None\n",
       "17527  17528                           සාර්ථක පැල්ල්වොලොන් නාසය  None\n",
       "17528  17529                                          රජරාජපක්ෂ  None\n",
       "17529  17530                  ස්‍රෙස්ට හදවතෙ විරොදාර සිංහනායකයා  None\n",
       "17531  17532                                      ගෞරවය දැක්වීම  None\n",
       "17533  17534                                             ජෙසෙයි  None\n",
       "17534  17535       මාගර් නයකෝයාතනන්ද හෝරා කියියා නදී අගගරු කරන්  None\n",
       "17536  17537  ඇඩටාටාටා මෙනා පුල්ඩු පුපුරාන් ඩා කලන්නි තනාකික...  None\n",
       "17537  17538        පාට පක්ශ මොකක්උනත් මේගෞරවය නම් ලැබියයුතුමයී  None\n",
       "17538  17539                                       නියම සිංහලයා  None\n",
       "17539  17540  මම තාලි වානරයා රාජු සහ ඉනා පෙන්ඩා වෑෂිත කරු රග...  None\n",
       "17540  17541                             වෙත හමානුවෙන් ලබා දෙයි  None\n",
       "17541  17542                                           පචාලා නා  None\n",
       "17542  17543  නියාමා කොන්ඩැක් තියානාක් තියානාක් තියානා රාජ් ...  None\n",
       "17543  17544                              අනේ හැරිම ලස්සන දවසක්  None\n",
       "17544  17545                                     ඔයා හරිම හොදයි  None\n",
       "17545  17546                                 ඒ ළමයා දක්ෂ ළමයෙක්  None\n",
       "17546  17547                                   මෙතන මාර ලස්සනයි  None\n",
       "17547  17548                                 ඔයා හොඳට ඉගෙන ගන්න  None"
      ]
     },
     "execution_count": 24,
     "metadata": {},
     "output_type": "execute_result"
    }
   ],
   "source": [
    "data.tail(60)"
   ]
  },
  {
   "cell_type": "markdown",
   "id": "c337e7fe",
   "metadata": {},
   "source": [
    "#### Remove non sinhala words"
   ]
  },
  {
   "cell_type": "code",
   "execution_count": null,
   "id": "c3ce2665-1f84-4e56-bb92-54fc0c225d0a",
   "metadata": {},
   "outputs": [],
   "source": [
    "def remove_non_sinhala(text):\n",
    "    return re.sub(r'[^\\u0D80-\\u0DFF\\s]', '', str(text)) #Keep only Unicode range for Sinhala\n",
    "\n",
    "data['comment'] = data['comment'].apply(remove_non_sinhala)\n",
    "\n"
   ]
  },
  {
   "cell_type": "code",
   "execution_count": null,
   "id": "b551d312-031c-48f3-a208-28dfb21bf184",
   "metadata": {},
   "outputs": [
    {
     "data": {
      "text/html": [
       "<div>\n",
       "<style scoped>\n",
       "    .dataframe tbody tr th:only-of-type {\n",
       "        vertical-align: middle;\n",
       "    }\n",
       "\n",
       "    .dataframe tbody tr th {\n",
       "        vertical-align: top;\n",
       "    }\n",
       "\n",
       "    .dataframe thead th {\n",
       "        text-align: right;\n",
       "    }\n",
       "</style>\n",
       "<table border=\"1\" class=\"dataframe\">\n",
       "  <thead>\n",
       "    <tr style=\"text-align: right;\">\n",
       "      <th></th>\n",
       "      <th>id</th>\n",
       "      <th>comment</th>\n",
       "      <th>label</th>\n",
       "    </tr>\n",
       "  </thead>\n",
       "  <tbody>\n",
       "    <tr>\n",
       "      <th>17525</th>\n",
       "      <td>17526</td>\n",
       "      <td>පළමු දිනයට යටින්</td>\n",
       "      <td>None</td>\n",
       "    </tr>\n",
       "    <tr>\n",
       "      <th>17526</th>\n",
       "      <td>17527</td>\n",
       "      <td>යුද්ධෙන් පස්සේ සිද්ධි කොහොම වුණත් ඒ එඩිතර කොන්...</td>\n",
       "      <td>None</td>\n",
       "    </tr>\n",
       "    <tr>\n",
       "      <th>17527</th>\n",
       "      <td>17528</td>\n",
       "      <td>සාර්ථක පැල්ල්වොලොන් නාසය</td>\n",
       "      <td>None</td>\n",
       "    </tr>\n",
       "    <tr>\n",
       "      <th>17528</th>\n",
       "      <td>17529</td>\n",
       "      <td>රජරාජපක්ෂ</td>\n",
       "      <td>None</td>\n",
       "    </tr>\n",
       "    <tr>\n",
       "      <th>17529</th>\n",
       "      <td>17530</td>\n",
       "      <td>ස්රෙස්ට හදවතෙ විරොදාර සිංහනායකයා</td>\n",
       "      <td>None</td>\n",
       "    </tr>\n",
       "    <tr>\n",
       "      <th>17531</th>\n",
       "      <td>17532</td>\n",
       "      <td>ගෞරවය දැක්වීම</td>\n",
       "      <td>None</td>\n",
       "    </tr>\n",
       "    <tr>\n",
       "      <th>17533</th>\n",
       "      <td>17534</td>\n",
       "      <td>ජෙසෙයි</td>\n",
       "      <td>None</td>\n",
       "    </tr>\n",
       "    <tr>\n",
       "      <th>17534</th>\n",
       "      <td>17535</td>\n",
       "      <td>මාගර් නයකෝයාතනන්ද හෝරා කියියා නදී අගගරු කරන්</td>\n",
       "      <td>None</td>\n",
       "    </tr>\n",
       "    <tr>\n",
       "      <th>17536</th>\n",
       "      <td>17537</td>\n",
       "      <td>ඇඩටාටාටා මෙනා පුල්ඩු පුපුරාන් ඩා කලන්නි තනාකික...</td>\n",
       "      <td>None</td>\n",
       "    </tr>\n",
       "    <tr>\n",
       "      <th>17537</th>\n",
       "      <td>17538</td>\n",
       "      <td>පාට පක්ශ මොකක්උනත් මේගෞරවය නම් ලැබියයුතුමයී</td>\n",
       "      <td>None</td>\n",
       "    </tr>\n",
       "    <tr>\n",
       "      <th>17538</th>\n",
       "      <td>17539</td>\n",
       "      <td>නියම සිංහලයා</td>\n",
       "      <td>None</td>\n",
       "    </tr>\n",
       "    <tr>\n",
       "      <th>17539</th>\n",
       "      <td>17540</td>\n",
       "      <td>මම තාලි වානරයා රාජු සහ ඉනා පෙන්ඩා වෑෂිත කරු රග...</td>\n",
       "      <td>None</td>\n",
       "    </tr>\n",
       "    <tr>\n",
       "      <th>17540</th>\n",
       "      <td>17541</td>\n",
       "      <td>වෙත හමානුවෙන් ලබා දෙයි</td>\n",
       "      <td>None</td>\n",
       "    </tr>\n",
       "    <tr>\n",
       "      <th>17541</th>\n",
       "      <td>17542</td>\n",
       "      <td>පචාලා නා</td>\n",
       "      <td>None</td>\n",
       "    </tr>\n",
       "    <tr>\n",
       "      <th>17542</th>\n",
       "      <td>17543</td>\n",
       "      <td>නියාමා කොන්ඩැක් තියානාක් තියානාක් තියානා රාජ් ...</td>\n",
       "      <td>None</td>\n",
       "    </tr>\n",
       "    <tr>\n",
       "      <th>17543</th>\n",
       "      <td>17544</td>\n",
       "      <td>අනේ හැරිම ලස්සන දවසක්</td>\n",
       "      <td>None</td>\n",
       "    </tr>\n",
       "    <tr>\n",
       "      <th>17544</th>\n",
       "      <td>17545</td>\n",
       "      <td>ඔයා හරිම හොදයි</td>\n",
       "      <td>None</td>\n",
       "    </tr>\n",
       "    <tr>\n",
       "      <th>17545</th>\n",
       "      <td>17546</td>\n",
       "      <td>ඒ ළමයා දක්ෂ ළමයෙක්</td>\n",
       "      <td>None</td>\n",
       "    </tr>\n",
       "    <tr>\n",
       "      <th>17546</th>\n",
       "      <td>17547</td>\n",
       "      <td>මෙතන මාර ලස්සනයි</td>\n",
       "      <td>None</td>\n",
       "    </tr>\n",
       "    <tr>\n",
       "      <th>17547</th>\n",
       "      <td>17548</td>\n",
       "      <td>ඔයා හොඳට ඉගෙන ගන්න</td>\n",
       "      <td>None</td>\n",
       "    </tr>\n",
       "  </tbody>\n",
       "</table>\n",
       "</div>"
      ],
      "text/plain": [
       "          id                                            comment label\n",
       "17525  17526                                   පළමු දිනයට යටින්  None\n",
       "17526  17527  යුද්ධෙන් පස්සේ සිද්ධි කොහොම වුණත් ඒ එඩිතර කොන්...  None\n",
       "17527  17528                           සාර්ථක පැල්ල්වොලොන් නාසය  None\n",
       "17528  17529                                          රජරාජපක්ෂ  None\n",
       "17529  17530                   ස්රෙස්ට හදවතෙ විරොදාර සිංහනායකයා  None\n",
       "17531  17532                                      ගෞරවය දැක්වීම  None\n",
       "17533  17534                                             ජෙසෙයි  None\n",
       "17534  17535       මාගර් නයකෝයාතනන්ද හෝරා කියියා නදී අගගරු කරන්  None\n",
       "17536  17537  ඇඩටාටාටා මෙනා පුල්ඩු පුපුරාන් ඩා කලන්නි තනාකික...  None\n",
       "17537  17538        පාට පක්ශ මොකක්උනත් මේගෞරවය නම් ලැබියයුතුමයී  None\n",
       "17538  17539                                       නියම සිංහලයා  None\n",
       "17539  17540  මම තාලි වානරයා රාජු සහ ඉනා පෙන්ඩා වෑෂිත කරු රග...  None\n",
       "17540  17541                             වෙත හමානුවෙන් ලබා දෙයි  None\n",
       "17541  17542                                           පචාලා නා  None\n",
       "17542  17543  නියාමා කොන්ඩැක් තියානාක් තියානාක් තියානා රාජ් ...  None\n",
       "17543  17544                              අනේ හැරිම ලස්සන දවසක්  None\n",
       "17544  17545                                     ඔයා හරිම හොදයි  None\n",
       "17545  17546                                 ඒ ළමයා දක්ෂ ළමයෙක්  None\n",
       "17546  17547                                   මෙතන මාර ලස්සනයි  None\n",
       "17547  17548                                 ඔයා හොඳට ඉගෙන ගන්න  None"
      ]
     },
     "execution_count": 26,
     "metadata": {},
     "output_type": "execute_result"
    }
   ],
   "source": [
    "data.tail(20)"
   ]
  },
  {
   "cell_type": "markdown",
   "id": "ba6cc0f1-1ca0-4594-9729-df38f327a865",
   "metadata": {},
   "source": [
    "#### Remove Stop Words"
   ]
  },
  {
   "cell_type": "code",
   "execution_count": 27,
   "id": "0f20a2a4-4de8-4f24-b84d-0624ee7b6297",
   "metadata": {},
   "outputs": [],
   "source": [
    "sinhala_stopwords = set(\"\"\"\n",
    "සහ සමග සමඟ අහා ආහ් ආ ඕහෝ අනේ අඳෝ අපොයි අපෝ අයියෝ ආයි ඌයි චී චිහ් චික් හෝ‍ දෝ දෝහෝ මෙන්\n",
    "සේ වැනි බඳු වන් අයුරු අයුරින් ලෙස වැඩි ශ්‍රී හා ය නිසා නිසාවෙන් බවට බව බවෙන් නම් වැඩි සිටදී මහා මහ\n",
    "පමණ පමණින් පමන වන විට විටින් මේ මෙලෙස මෙයින් ඇති ලෙස සිදු වශයෙන් යන සඳහා මගින් හෝ‍ ඉතා ඒ එම ද\n",
    "අතර විසින් සමග පිළිබඳව පිළිබඳ තුළ බව වැනි මහ මෙම මෙහි මේ වෙත වෙතින් වෙතට වෙනුවෙන් වෙනුවට\n",
    "වෙන ගැන නෑ අනුව නව පිළිබඳ විශේෂ දැනට එහෙන් මෙහෙන් එහේ මෙහේ ම තවත් තව දක්වා ට ගේ එ ක ක්\n",
    "බවත් බවද මත ඇතුලු ඇතුළු මෙසේ වැඩි වඩා වඩාත්ම නිති නිතිත් නිතොර නිතර ඉක්බිති දැන් යලි පුන ඉතින් සිට\n",
    "සිටන් පටන් තෙක් දක්වා සා තාක් තුවක් පවා ද හෝ‍ වත් විනා හැර මිස මුත් කිම කිම් ඇයි මන්ද හෙවත් නොහොත්\n",
    "පතා පාසා ගානෙ තව ඉතා බොහෝ වහා සෙද සැනින් හනික එම්බා එම්බල බොල නම් වනාහි කලී ඉඳුරා අන්න ඔන්න\n",
    "මෙන්න උදෙසා පිණිස සඳහා අරබයා නිසා එනිසා එබැවින් බැවින් හෙයින් සේක් සේක ගැන අනුව පරිදි විට තෙක්\n",
    "මෙතෙක් මේතාක් තුරු තුරා තුරාවට තුලින් නමුත් එනමුත් වස් මෙන් ලෙස පරිදි එහෙත්\n",
    "\"\"\".split())\n",
    "\n",
    "def remove_sinhala_stopwords(text):\n",
    "    words = str(text).split()\n",
    "    filtered_words = [word for word in words if word not in sinhala_stopwords]\n",
    "    return \" \".join(filtered_words)\n",
    "\n",
    "\n",
    "data['comment'] = data['comment'].apply(remove_sinhala_stopwords)\n",
    "\n"
   ]
  },
  {
   "cell_type": "code",
   "execution_count": 28,
   "id": "d3a0b6d1-0b93-49e1-b07f-e5473cbe01fa",
   "metadata": {},
   "outputs": [
    {
     "data": {
      "text/html": [
       "<div>\n",
       "<style scoped>\n",
       "    .dataframe tbody tr th:only-of-type {\n",
       "        vertical-align: middle;\n",
       "    }\n",
       "\n",
       "    .dataframe tbody tr th {\n",
       "        vertical-align: top;\n",
       "    }\n",
       "\n",
       "    .dataframe thead th {\n",
       "        text-align: right;\n",
       "    }\n",
       "</style>\n",
       "<table border=\"1\" class=\"dataframe\">\n",
       "  <thead>\n",
       "    <tr style=\"text-align: right;\">\n",
       "      <th></th>\n",
       "      <th>id</th>\n",
       "      <th>comment</th>\n",
       "      <th>label</th>\n",
       "    </tr>\n",
       "  </thead>\n",
       "  <tbody>\n",
       "    <tr>\n",
       "      <th>0</th>\n",
       "      <td>1</td>\n",
       "      <td>මෑන් අයිඩීක් ඔබේ පරිගණක පිරිවිතර මොනවාද ඔබ නැව...</td>\n",
       "      <td>BaseballBat</td>\n",
       "    </tr>\n",
       "    <tr>\n",
       "      <th>1</th>\n",
       "      <td>2</td>\n",
       "      <td>සහෝදරයා ඔබට වෙව්ට කළේ කුමක්ද</td>\n",
       "      <td>BaseballBat</td>\n",
       "    </tr>\n",
       "    <tr>\n",
       "      <th>2</th>\n",
       "      <td>3</td>\n",
       "      <td>දුප්පත් විල්ලෙයි</td>\n",
       "      <td>BaseballBat</td>\n",
       "    </tr>\n",
       "    <tr>\n",
       "      <th>3</th>\n",
       "      <td>4</td>\n",
       "      <td>බ්රෝ කුරිරු යක්ෂයා පත් විය</td>\n",
       "      <td>BaseballBat</td>\n",
       "    </tr>\n",
       "    <tr>\n",
       "      <th>4</th>\n",
       "      <td>5</td>\n",
       "      <td></td>\n",
       "      <td>BaseballBat</td>\n",
       "    </tr>\n",
       "  </tbody>\n",
       "</table>\n",
       "</div>"
      ],
      "text/plain": [
       "   id                                            comment        label\n",
       "0   1  මෑන් අයිඩීක් ඔබේ පරිගණක පිරිවිතර මොනවාද ඔබ නැව...  BaseballBat\n",
       "1   2                       සහෝදරයා ඔබට වෙව්ට කළේ කුමක්ද  BaseballBat\n",
       "2   3                                   දුප්පත් විල්ලෙයි  BaseballBat\n",
       "3   4                         බ්රෝ කුරිරු යක්ෂයා පත් විය  BaseballBat\n",
       "4   5                                                     BaseballBat"
      ]
     },
     "execution_count": 28,
     "metadata": {},
     "output_type": "execute_result"
    }
   ],
   "source": [
    "data.head()"
   ]
  },
  {
   "cell_type": "markdown",
   "id": "408064b7-5778-4ae7-bbef-4f87e6038d48",
   "metadata": {},
   "source": [
    "#### Drop rows with null values"
   ]
  },
  {
   "cell_type": "code",
   "execution_count": 29,
   "id": "9b623500-9609-439b-8f6e-337b68fc7872",
   "metadata": {},
   "outputs": [],
   "source": [
    "data.dropna(subset=['comment'], inplace=True)"
   ]
  },
  {
   "cell_type": "code",
   "execution_count": 30,
   "id": "9e722622-53a5-4be0-a344-429201a93b40",
   "metadata": {},
   "outputs": [
    {
     "data": {
      "text/plain": [
       "(14296, 3)"
      ]
     },
     "execution_count": 30,
     "metadata": {},
     "output_type": "execute_result"
    }
   ],
   "source": [
    "data.shape"
   ]
  },
  {
   "cell_type": "markdown",
   "id": "3d3a6953-e7ab-47f6-8bca-9d7fc279bad2",
   "metadata": {},
   "source": [
    "#### Remove empty strings in comment"
   ]
  },
  {
   "cell_type": "code",
   "execution_count": 31,
   "id": "23ac7716-1044-4608-8c6d-bc2e46bb5e5c",
   "metadata": {},
   "outputs": [],
   "source": [
    "data = data[data['comment'].str.strip() != '']"
   ]
  },
  {
   "cell_type": "code",
   "execution_count": 32,
   "id": "cd12af4b-e36a-4b8a-99c9-7eafc96aa7c1",
   "metadata": {},
   "outputs": [
    {
     "data": {
      "text/plain": [
       "(14023, 3)"
      ]
     },
     "execution_count": 32,
     "metadata": {},
     "output_type": "execute_result"
    }
   ],
   "source": [
    "data.shape"
   ]
  },
  {
   "cell_type": "markdown",
   "id": "b2de1c6c-97c5-4035-832a-7ad981ff9e1b",
   "metadata": {},
   "source": [
    "#### Reset Index"
   ]
  },
  {
   "cell_type": "code",
   "execution_count": 33,
   "id": "8a314e3a-750a-410b-96e3-c16b26d3f573",
   "metadata": {},
   "outputs": [],
   "source": [
    "data.reset_index(drop=True, inplace=True)\n",
    "data['id'] = data.index + 1 "
   ]
  },
  {
   "cell_type": "code",
   "execution_count": 34,
   "id": "0f51901a-bf6d-4a62-9c29-aeb40ed171e7",
   "metadata": {},
   "outputs": [
    {
     "data": {
      "text/html": [
       "<div>\n",
       "<style scoped>\n",
       "    .dataframe tbody tr th:only-of-type {\n",
       "        vertical-align: middle;\n",
       "    }\n",
       "\n",
       "    .dataframe tbody tr th {\n",
       "        vertical-align: top;\n",
       "    }\n",
       "\n",
       "    .dataframe thead th {\n",
       "        text-align: right;\n",
       "    }\n",
       "</style>\n",
       "<table border=\"1\" class=\"dataframe\">\n",
       "  <thead>\n",
       "    <tr style=\"text-align: right;\">\n",
       "      <th></th>\n",
       "      <th>id</th>\n",
       "      <th>comment</th>\n",
       "      <th>label</th>\n",
       "    </tr>\n",
       "  </thead>\n",
       "  <tbody>\n",
       "    <tr>\n",
       "      <th>14013</th>\n",
       "      <td>14014</td>\n",
       "      <td>නියම සිංහලයා</td>\n",
       "      <td>None</td>\n",
       "    </tr>\n",
       "    <tr>\n",
       "      <th>14014</th>\n",
       "      <td>14015</td>\n",
       "      <td>මම තාලි වානරයා රාජු ඉනා පෙන්ඩා වෑෂිත කරු රගන් ...</td>\n",
       "      <td>None</td>\n",
       "    </tr>\n",
       "    <tr>\n",
       "      <th>14015</th>\n",
       "      <td>14016</td>\n",
       "      <td>හමානුවෙන් ලබා දෙයි</td>\n",
       "      <td>None</td>\n",
       "    </tr>\n",
       "    <tr>\n",
       "      <th>14016</th>\n",
       "      <td>14017</td>\n",
       "      <td>පචාලා නා</td>\n",
       "      <td>None</td>\n",
       "    </tr>\n",
       "    <tr>\n",
       "      <th>14017</th>\n",
       "      <td>14018</td>\n",
       "      <td>නියාමා කොන්ඩැක් තියානාක් තියානාක් තියානා රාජ් ...</td>\n",
       "      <td>None</td>\n",
       "    </tr>\n",
       "    <tr>\n",
       "      <th>14018</th>\n",
       "      <td>14019</td>\n",
       "      <td>හැරිම ලස්සන දවසක්</td>\n",
       "      <td>None</td>\n",
       "    </tr>\n",
       "    <tr>\n",
       "      <th>14019</th>\n",
       "      <td>14020</td>\n",
       "      <td>ඔයා හරිම හොදයි</td>\n",
       "      <td>None</td>\n",
       "    </tr>\n",
       "    <tr>\n",
       "      <th>14020</th>\n",
       "      <td>14021</td>\n",
       "      <td>ළමයා දක්ෂ ළමයෙක්</td>\n",
       "      <td>None</td>\n",
       "    </tr>\n",
       "    <tr>\n",
       "      <th>14021</th>\n",
       "      <td>14022</td>\n",
       "      <td>මෙතන මාර ලස්සනයි</td>\n",
       "      <td>None</td>\n",
       "    </tr>\n",
       "    <tr>\n",
       "      <th>14022</th>\n",
       "      <td>14023</td>\n",
       "      <td>ඔයා හොඳට ඉගෙන ගන්න</td>\n",
       "      <td>None</td>\n",
       "    </tr>\n",
       "  </tbody>\n",
       "</table>\n",
       "</div>"
      ],
      "text/plain": [
       "          id                                            comment label\n",
       "14013  14014                                       නියම සිංහලයා  None\n",
       "14014  14015  මම තාලි වානරයා රාජු ඉනා පෙන්ඩා වෑෂිත කරු රගන් ...  None\n",
       "14015  14016                                 හමානුවෙන් ලබා දෙයි  None\n",
       "14016  14017                                           පචාලා නා  None\n",
       "14017  14018  නියාමා කොන්ඩැක් තියානාක් තියානාක් තියානා රාජ් ...  None\n",
       "14018  14019                                  හැරිම ලස්සන දවසක්  None\n",
       "14019  14020                                     ඔයා හරිම හොදයි  None\n",
       "14020  14021                                   ළමයා දක්ෂ ළමයෙක්  None\n",
       "14021  14022                                   මෙතන මාර ලස්සනයි  None\n",
       "14022  14023                                 ඔයා හොඳට ඉගෙන ගන්න  None"
      ]
     },
     "execution_count": 34,
     "metadata": {},
     "output_type": "execute_result"
    }
   ],
   "source": [
    "data.tail(10)"
   ]
  },
  {
   "cell_type": "markdown",
   "id": "8e7015c0-405d-4cc8-a950-fe8980965e6c",
   "metadata": {},
   "source": [
    "#### Label Encoder"
   ]
  },
  {
   "cell_type": "code",
   "execution_count": 35,
   "id": "592633b0-2423-4547-9d7a-2db0cd503ddb",
   "metadata": {},
   "outputs": [
    {
     "name": "stdout",
     "output_type": "stream",
     "text": [
      "Requirement already satisfied: scikit-learn in d:\\campus\\semester8\\research model creation\\youtube_comments_analyse\\env\\lib\\site-packages (1.6.1)\n",
      "Requirement already satisfied: numpy>=1.19.5 in d:\\campus\\semester8\\research model creation\\youtube_comments_analyse\\env\\lib\\site-packages (from scikit-learn) (2.2.6)\n",
      "Requirement already satisfied: scipy>=1.6.0 in d:\\campus\\semester8\\research model creation\\youtube_comments_analyse\\env\\lib\\site-packages (from scikit-learn) (1.15.3)\n",
      "Requirement already satisfied: joblib>=1.2.0 in d:\\campus\\semester8\\research model creation\\youtube_comments_analyse\\env\\lib\\site-packages (from scikit-learn) (1.5.1)\n",
      "Requirement already satisfied: threadpoolctl>=3.1.0 in d:\\campus\\semester8\\research model creation\\youtube_comments_analyse\\env\\lib\\site-packages (from scikit-learn) (3.6.0)\n"
     ]
    },
    {
     "name": "stderr",
     "output_type": "stream",
     "text": [
      "\n",
      "[notice] A new release of pip is available: 25.0.1 -> 25.1.1\n",
      "[notice] To update, run: python.exe -m pip install --upgrade pip\n"
     ]
    }
   ],
   "source": [
    "!pip install scikit-learn"
   ]
  },
  {
   "cell_type": "code",
   "execution_count": 36,
   "id": "8da9eb40-9aa6-43b2-ae18-fd8c143329de",
   "metadata": {},
   "outputs": [],
   "source": [
    "from sklearn.preprocessing import LabelEncoder #Convert categorical text labels into numerical values\n",
    "\n",
    "label_encoder = LabelEncoder()\n",
    "data['label_encoded'] = label_encoder.fit_transform(data['label']) "
   ]
  },
  {
   "cell_type": "code",
   "execution_count": 37,
   "id": "af4b03b9-29b0-46a8-9216-80045764cc88",
   "metadata": {},
   "outputs": [
    {
     "name": "stdout",
     "output_type": "stream",
     "text": [
      "Unique labels: ['BaseballBat' 'HitAndRun' 'LipKissing' 'BombExplotionInPublic'\n",
      " 'KillCowWithKnife' 'None']\n"
     ]
    }
   ],
   "source": [
    "print(\"Unique labels:\", data['label'].unique())\n"
   ]
  },
  {
   "cell_type": "code",
   "execution_count": 38,
   "id": "d5c3f357-5d3c-4ef3-9405-605793908e73",
   "metadata": {},
   "outputs": [
    {
     "name": "stdout",
     "output_type": "stream",
     "text": [
      "Label counts:\n",
      " label\n",
      "None                     2700\n",
      "BaseballBat              2511\n",
      "HitAndRun                2395\n",
      "KillCowWithKnife         2244\n",
      "BombExplotionInPublic    2186\n",
      "LipKissing               1987\n",
      "Name: count, dtype: int64\n"
     ]
    }
   ],
   "source": [
    "print(\"Label counts:\\n\", data['label'].value_counts())\n"
   ]
  },
  {
   "cell_type": "code",
   "execution_count": 75,
   "id": "c4aa1e2d-f087-450b-b06f-406d7759b655",
   "metadata": {},
   "outputs": [
    {
     "name": "stdout",
     "output_type": "stream",
     "text": [
      "Unique encoded labels: [0 2 4 1 3 5]\n",
      "Label Mapping: {np.int64(0): 'BaseballBat', np.int64(1): 'BombExplotionInPublic', np.int64(2): 'HitAndRun', np.int64(3): 'KillCowWithKnife', np.int64(4): 'LipKissing', np.int64(5): 'None'}\n"
     ]
    }
   ],
   "source": [
    "# Show all unique encoded labels\n",
    "print(\"Unique encoded labels:\", data['label_encoded'].unique())\n",
    "\n",
    "# Show mapping from number → original label\n",
    "label_mapping = dict(zip(label_encoder.transform(label_encoder.classes_), label_encoder.classes_))\n",
    "print(\"Label Mapping:\", label_mapping)\n"
   ]
  },
  {
   "cell_type": "code",
   "execution_count": 76,
   "id": "ca599014-79d0-4b6c-931c-9f92c27b3902",
   "metadata": {},
   "outputs": [
    {
     "data": {
      "text/html": [
       "<div>\n",
       "<style scoped>\n",
       "    .dataframe tbody tr th:only-of-type {\n",
       "        vertical-align: middle;\n",
       "    }\n",
       "\n",
       "    .dataframe tbody tr th {\n",
       "        vertical-align: top;\n",
       "    }\n",
       "\n",
       "    .dataframe thead th {\n",
       "        text-align: right;\n",
       "    }\n",
       "</style>\n",
       "<table border=\"1\" class=\"dataframe\">\n",
       "  <thead>\n",
       "    <tr style=\"text-align: right;\">\n",
       "      <th></th>\n",
       "      <th>id</th>\n",
       "      <th>comment</th>\n",
       "      <th>label</th>\n",
       "      <th>label_encoded</th>\n",
       "    </tr>\n",
       "  </thead>\n",
       "  <tbody>\n",
       "    <tr>\n",
       "      <th>0</th>\n",
       "      <td>1</td>\n",
       "      <td>මෑන් අයිඩීක් ඔබේ පරිගණක පිරිවිතර මොනවාද ඔබ නැව...</td>\n",
       "      <td>BaseballBat</td>\n",
       "      <td>0</td>\n",
       "    </tr>\n",
       "    <tr>\n",
       "      <th>1</th>\n",
       "      <td>2</td>\n",
       "      <td>සහෝදරයා ඔබට වෙව්ට කළේ කුමක්ද</td>\n",
       "      <td>BaseballBat</td>\n",
       "      <td>0</td>\n",
       "    </tr>\n",
       "    <tr>\n",
       "      <th>2</th>\n",
       "      <td>3</td>\n",
       "      <td>දුප්පත් විල්ලෙයි</td>\n",
       "      <td>BaseballBat</td>\n",
       "      <td>0</td>\n",
       "    </tr>\n",
       "    <tr>\n",
       "      <th>3</th>\n",
       "      <td>4</td>\n",
       "      <td>බ්රෝ කුරිරු යක්ෂයා පත් විය</td>\n",
       "      <td>BaseballBat</td>\n",
       "      <td>0</td>\n",
       "    </tr>\n",
       "    <tr>\n",
       "      <th>4</th>\n",
       "      <td>5</td>\n",
       "      <td>සහෝදරයා තම මිතුරා අපයෝජනය කරයි</td>\n",
       "      <td>BaseballBat</td>\n",
       "      <td>0</td>\n",
       "    </tr>\n",
       "  </tbody>\n",
       "</table>\n",
       "</div>"
      ],
      "text/plain": [
       "   id                                            comment        label  \\\n",
       "0   1  මෑන් අයිඩීක් ඔබේ පරිගණක පිරිවිතර මොනවාද ඔබ නැව...  BaseballBat   \n",
       "1   2                       සහෝදරයා ඔබට වෙව්ට කළේ කුමක්ද  BaseballBat   \n",
       "2   3                                   දුප්පත් විල්ලෙයි  BaseballBat   \n",
       "3   4                         බ්රෝ කුරිරු යක්ෂයා පත් විය  BaseballBat   \n",
       "4   5                     සහෝදරයා තම මිතුරා අපයෝජනය කරයි  BaseballBat   \n",
       "\n",
       "   label_encoded  \n",
       "0              0  \n",
       "1              0  \n",
       "2              0  \n",
       "3              0  \n",
       "4              0  "
      ]
     },
     "execution_count": 76,
     "metadata": {},
     "output_type": "execute_result"
    }
   ],
   "source": [
    "data.head()"
   ]
  },
  {
   "cell_type": "markdown",
   "id": "3b461f69-782d-48cd-9b41-55e1b65e4436",
   "metadata": {},
   "source": [
    "#### Save Preprocess Data"
   ]
  },
  {
   "cell_type": "code",
   "execution_count": 77,
   "id": "c0252768-76ed-4c12-a804-757314c12c49",
   "metadata": {},
   "outputs": [],
   "source": [
    "data.to_csv(\"../artifacts/preprocessed_comment_dataset.csv\", index=False, encoding='utf-8-sig')"
   ]
  },
  {
   "cell_type": "code",
   "execution_count": null,
   "id": "3d4565c7-a392-4b5d-92bb-fbab0f9443c8",
   "metadata": {},
   "outputs": [],
   "source": []
  }
 ],
 "metadata": {
  "kernelspec": {
   "display_name": "Python 3 (ipykernel)",
   "language": "python",
   "name": "python3"
  },
  "language_info": {
   "codemirror_mode": {
    "name": "ipython",
    "version": 3
   },
   "file_extension": ".py",
   "mimetype": "text/x-python",
   "name": "python",
   "nbconvert_exporter": "python",
   "pygments_lexer": "ipython3",
   "version": "3.10.0"
  }
 },
 "nbformat": 4,
 "nbformat_minor": 5
}
