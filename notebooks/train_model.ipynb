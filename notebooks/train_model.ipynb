{
 "cells": [
  {
   "cell_type": "code",
   "execution_count": 1,
   "id": "d29f78fb-1efd-4a7f-9190-0cb40edc09f3",
   "metadata": {},
   "outputs": [
    {
     "name": "stdout",
     "output_type": "stream",
     "text": [
      "Requirement already satisfied: transformers in d:\\campus\\semester8\\research model creation\\youtube_comments_analyse\\env\\lib\\site-packages (4.53.2)\n",
      "Requirement already satisfied: datasets in d:\\campus\\semester8\\research model creation\\youtube_comments_analyse\\env\\lib\\site-packages (4.0.0)\n",
      "Requirement already satisfied: scikit-learn in d:\\campus\\semester8\\research model creation\\youtube_comments_analyse\\env\\lib\\site-packages (1.7.0)\n",
      "Requirement already satisfied: pandas in d:\\campus\\semester8\\research model creation\\youtube_comments_analyse\\env\\lib\\site-packages (2.3.1)\n",
      "Requirement already satisfied: torch in d:\\campus\\semester8\\research model creation\\youtube_comments_analyse\\env\\lib\\site-packages (2.7.1+cu118)\n",
      "Requirement already satisfied: filelock in d:\\campus\\semester8\\research model creation\\youtube_comments_analyse\\env\\lib\\site-packages (from transformers) (3.18.0)\n",
      "Requirement already satisfied: huggingface-hub<1.0,>=0.30.0 in d:\\campus\\semester8\\research model creation\\youtube_comments_analyse\\env\\lib\\site-packages (from transformers) (0.33.4)\n",
      "Requirement already satisfied: numpy>=1.17 in d:\\campus\\semester8\\research model creation\\youtube_comments_analyse\\env\\lib\\site-packages (from transformers) (2.2.6)\n",
      "Requirement already satisfied: packaging>=20.0 in d:\\campus\\semester8\\research model creation\\youtube_comments_analyse\\env\\lib\\site-packages (from transformers) (25.0)\n",
      "Requirement already satisfied: pyyaml>=5.1 in d:\\campus\\semester8\\research model creation\\youtube_comments_analyse\\env\\lib\\site-packages (from transformers) (6.0.2)\n",
      "Requirement already satisfied: regex!=2019.12.17 in d:\\campus\\semester8\\research model creation\\youtube_comments_analyse\\env\\lib\\site-packages (from transformers) (2024.11.6)\n",
      "Requirement already satisfied: requests in d:\\campus\\semester8\\research model creation\\youtube_comments_analyse\\env\\lib\\site-packages (from transformers) (2.32.4)\n",
      "Requirement already satisfied: tokenizers<0.22,>=0.21 in d:\\campus\\semester8\\research model creation\\youtube_comments_analyse\\env\\lib\\site-packages (from transformers) (0.21.2)\n",
      "Requirement already satisfied: safetensors>=0.4.3 in d:\\campus\\semester8\\research model creation\\youtube_comments_analyse\\env\\lib\\site-packages (from transformers) (0.5.3)\n",
      "Requirement already satisfied: tqdm>=4.27 in d:\\campus\\semester8\\research model creation\\youtube_comments_analyse\\env\\lib\\site-packages (from transformers) (4.67.1)\n",
      "Requirement already satisfied: pyarrow>=15.0.0 in d:\\campus\\semester8\\research model creation\\youtube_comments_analyse\\env\\lib\\site-packages (from datasets) (20.0.0)\n",
      "Requirement already satisfied: dill<0.3.9,>=0.3.0 in d:\\campus\\semester8\\research model creation\\youtube_comments_analyse\\env\\lib\\site-packages (from datasets) (0.3.8)\n",
      "Requirement already satisfied: xxhash in d:\\campus\\semester8\\research model creation\\youtube_comments_analyse\\env\\lib\\site-packages (from datasets) (3.5.0)\n",
      "Requirement already satisfied: multiprocess<0.70.17 in d:\\campus\\semester8\\research model creation\\youtube_comments_analyse\\env\\lib\\site-packages (from datasets) (0.70.16)\n",
      "Requirement already satisfied: fsspec<=2025.3.0,>=2023.1.0 in d:\\campus\\semester8\\research model creation\\youtube_comments_analyse\\env\\lib\\site-packages (from fsspec[http]<=2025.3.0,>=2023.1.0->datasets) (2025.3.0)\n",
      "Requirement already satisfied: scipy>=1.8.0 in d:\\campus\\semester8\\research model creation\\youtube_comments_analyse\\env\\lib\\site-packages (from scikit-learn) (1.15.3)\n",
      "Requirement already satisfied: joblib>=1.2.0 in d:\\campus\\semester8\\research model creation\\youtube_comments_analyse\\env\\lib\\site-packages (from scikit-learn) (1.5.1)\n",
      "Requirement already satisfied: threadpoolctl>=3.1.0 in d:\\campus\\semester8\\research model creation\\youtube_comments_analyse\\env\\lib\\site-packages (from scikit-learn) (3.6.0)\n",
      "Requirement already satisfied: python-dateutil>=2.8.2 in d:\\campus\\semester8\\research model creation\\youtube_comments_analyse\\env\\lib\\site-packages (from pandas) (2.9.0.post0)\n",
      "Requirement already satisfied: pytz>=2020.1 in d:\\campus\\semester8\\research model creation\\youtube_comments_analyse\\env\\lib\\site-packages (from pandas) (2025.2)\n",
      "Requirement already satisfied: tzdata>=2022.7 in d:\\campus\\semester8\\research model creation\\youtube_comments_analyse\\env\\lib\\site-packages (from pandas) (2025.2)\n",
      "Requirement already satisfied: typing-extensions>=4.10.0 in d:\\campus\\semester8\\research model creation\\youtube_comments_analyse\\env\\lib\\site-packages (from torch) (4.14.1)\n",
      "Requirement already satisfied: sympy>=1.13.3 in d:\\campus\\semester8\\research model creation\\youtube_comments_analyse\\env\\lib\\site-packages (from torch) (1.14.0)\n",
      "Requirement already satisfied: networkx in d:\\campus\\semester8\\research model creation\\youtube_comments_analyse\\env\\lib\\site-packages (from torch) (3.4.2)\n",
      "Requirement already satisfied: jinja2 in d:\\campus\\semester8\\research model creation\\youtube_comments_analyse\\env\\lib\\site-packages (from torch) (3.1.6)\n",
      "Requirement already satisfied: aiohttp!=4.0.0a0,!=4.0.0a1 in d:\\campus\\semester8\\research model creation\\youtube_comments_analyse\\env\\lib\\site-packages (from fsspec[http]<=2025.3.0,>=2023.1.0->datasets) (3.12.14)\n",
      "Requirement already satisfied: six>=1.5 in d:\\campus\\semester8\\research model creation\\youtube_comments_analyse\\env\\lib\\site-packages (from python-dateutil>=2.8.2->pandas) (1.17.0)\n",
      "Requirement already satisfied: charset_normalizer<4,>=2 in d:\\campus\\semester8\\research model creation\\youtube_comments_analyse\\env\\lib\\site-packages (from requests->transformers) (3.4.2)\n",
      "Requirement already satisfied: idna<4,>=2.5 in d:\\campus\\semester8\\research model creation\\youtube_comments_analyse\\env\\lib\\site-packages (from requests->transformers) (2.10)\n",
      "Requirement already satisfied: urllib3<3,>=1.21.1 in d:\\campus\\semester8\\research model creation\\youtube_comments_analyse\\env\\lib\\site-packages (from requests->transformers) (2.5.0)\n",
      "Requirement already satisfied: certifi>=2017.4.17 in d:\\campus\\semester8\\research model creation\\youtube_comments_analyse\\env\\lib\\site-packages (from requests->transformers) (2025.7.14)\n",
      "Requirement already satisfied: mpmath<1.4,>=1.1.0 in d:\\campus\\semester8\\research model creation\\youtube_comments_analyse\\env\\lib\\site-packages (from sympy>=1.13.3->torch) (1.3.0)\n",
      "Requirement already satisfied: colorama in d:\\campus\\semester8\\research model creation\\youtube_comments_analyse\\env\\lib\\site-packages (from tqdm>=4.27->transformers) (0.4.6)\n",
      "Requirement already satisfied: MarkupSafe>=2.0 in d:\\campus\\semester8\\research model creation\\youtube_comments_analyse\\env\\lib\\site-packages (from jinja2->torch) (3.0.2)\n",
      "Requirement already satisfied: aiohappyeyeballs>=2.5.0 in d:\\campus\\semester8\\research model creation\\youtube_comments_analyse\\env\\lib\\site-packages (from aiohttp!=4.0.0a0,!=4.0.0a1->fsspec[http]<=2025.3.0,>=2023.1.0->datasets) (2.6.1)\n",
      "Requirement already satisfied: aiosignal>=1.4.0 in d:\\campus\\semester8\\research model creation\\youtube_comments_analyse\\env\\lib\\site-packages (from aiohttp!=4.0.0a0,!=4.0.0a1->fsspec[http]<=2025.3.0,>=2023.1.0->datasets) (1.4.0)\n",
      "Requirement already satisfied: async-timeout<6.0,>=4.0 in d:\\campus\\semester8\\research model creation\\youtube_comments_analyse\\env\\lib\\site-packages (from aiohttp!=4.0.0a0,!=4.0.0a1->fsspec[http]<=2025.3.0,>=2023.1.0->datasets) (5.0.1)\n",
      "Requirement already satisfied: attrs>=17.3.0 in d:\\campus\\semester8\\research model creation\\youtube_comments_analyse\\env\\lib\\site-packages (from aiohttp!=4.0.0a0,!=4.0.0a1->fsspec[http]<=2025.3.0,>=2023.1.0->datasets) (25.3.0)\n",
      "Requirement already satisfied: frozenlist>=1.1.1 in d:\\campus\\semester8\\research model creation\\youtube_comments_analyse\\env\\lib\\site-packages (from aiohttp!=4.0.0a0,!=4.0.0a1->fsspec[http]<=2025.3.0,>=2023.1.0->datasets) (1.7.0)\n",
      "Requirement already satisfied: multidict<7.0,>=4.5 in d:\\campus\\semester8\\research model creation\\youtube_comments_analyse\\env\\lib\\site-packages (from aiohttp!=4.0.0a0,!=4.0.0a1->fsspec[http]<=2025.3.0,>=2023.1.0->datasets) (6.6.3)\n",
      "Requirement already satisfied: propcache>=0.2.0 in d:\\campus\\semester8\\research model creation\\youtube_comments_analyse\\env\\lib\\site-packages (from aiohttp!=4.0.0a0,!=4.0.0a1->fsspec[http]<=2025.3.0,>=2023.1.0->datasets) (0.3.2)\n",
      "Requirement already satisfied: yarl<2.0,>=1.17.0 in d:\\campus\\semester8\\research model creation\\youtube_comments_analyse\\env\\lib\\site-packages (from aiohttp!=4.0.0a0,!=4.0.0a1->fsspec[http]<=2025.3.0,>=2023.1.0->datasets) (1.20.1)\n"
     ]
    },
    {
     "name": "stderr",
     "output_type": "stream",
     "text": [
      "\n",
      "[notice] A new release of pip is available: 25.0.1 -> 25.1.1\n",
      "[notice] To update, run: python.exe -m pip install --upgrade pip\n"
     ]
    }
   ],
   "source": [
    "!pip install transformers datasets scikit-learn pandas "
   ]
  },
  {
   "cell_type": "code",
   "execution_count": 10,
   "id": "32310d0a-fa13-450a-a838-832e3b47c4f4",
   "metadata": {},
   "outputs": [
    {
     "name": "stdout",
     "output_type": "stream",
     "text": [
      "Looking in indexes: https://download.pytorch.org/whl/cu118\n",
      "Requirement already satisfied: torch in d:\\campus\\semester8\\research model creation\\youtube_comments_analyse\\env\\lib\\site-packages (2.7.1+cu118)\n",
      "Requirement already satisfied: torchvision in d:\\campus\\semester8\\research model creation\\youtube_comments_analyse\\env\\lib\\site-packages (0.22.1+cu118)\n",
      "Requirement already satisfied: torchaudio in d:\\campus\\semester8\\research model creation\\youtube_comments_analyse\\env\\lib\\site-packages (2.7.1+cu118)\n",
      "Requirement already satisfied: filelock in d:\\campus\\semester8\\research model creation\\youtube_comments_analyse\\env\\lib\\site-packages (from torch) (3.18.0)\n",
      "Requirement already satisfied: typing-extensions>=4.10.0 in d:\\campus\\semester8\\research model creation\\youtube_comments_analyse\\env\\lib\\site-packages (from torch) (4.14.1)\n",
      "Requirement already satisfied: sympy>=1.13.3 in d:\\campus\\semester8\\research model creation\\youtube_comments_analyse\\env\\lib\\site-packages (from torch) (1.14.0)\n",
      "Requirement already satisfied: networkx in d:\\campus\\semester8\\research model creation\\youtube_comments_analyse\\env\\lib\\site-packages (from torch) (3.4.2)\n",
      "Requirement already satisfied: jinja2 in d:\\campus\\semester8\\research model creation\\youtube_comments_analyse\\env\\lib\\site-packages (from torch) (3.1.6)\n",
      "Requirement already satisfied: fsspec in d:\\campus\\semester8\\research model creation\\youtube_comments_analyse\\env\\lib\\site-packages (from torch) (2025.3.0)\n",
      "Requirement already satisfied: numpy in d:\\campus\\semester8\\research model creation\\youtube_comments_analyse\\env\\lib\\site-packages (from torchvision) (2.2.6)\n",
      "Requirement already satisfied: pillow!=8.3.*,>=5.3.0 in d:\\campus\\semester8\\research model creation\\youtube_comments_analyse\\env\\lib\\site-packages (from torchvision) (11.3.0)\n",
      "Requirement already satisfied: mpmath<1.4,>=1.1.0 in d:\\campus\\semester8\\research model creation\\youtube_comments_analyse\\env\\lib\\site-packages (from sympy>=1.13.3->torch) (1.3.0)\n",
      "Requirement already satisfied: MarkupSafe>=2.0 in d:\\campus\\semester8\\research model creation\\youtube_comments_analyse\\env\\lib\\site-packages (from jinja2->torch) (3.0.2)\n"
     ]
    },
    {
     "name": "stderr",
     "output_type": "stream",
     "text": [
      "\n",
      "[notice] A new release of pip is available: 25.0.1 -> 25.1.1\n",
      "[notice] To update, run: python.exe -m pip install --upgrade pip\n"
     ]
    }
   ],
   "source": [
    "!pip install torch torchvision torchaudio --index-url https://download.pytorch.org/whl/cu118"
   ]
  },
  {
   "cell_type": "code",
   "execution_count": 40,
   "id": "cd6042cf-916f-47bc-aebb-d92bce2c9bc3",
   "metadata": {},
   "outputs": [
    {
     "name": "stdout",
     "output_type": "stream",
     "text": [
      "Collecting accelerate\n",
      "  Downloading accelerate-1.8.1-py3-none-any.whl.metadata (19 kB)\n",
      "Requirement already satisfied: numpy<3.0.0,>=1.17 in d:\\campus\\semester8\\research model creation\\youtube_comments_analyse\\env\\lib\\site-packages (from accelerate) (2.2.6)\n",
      "Requirement already satisfied: packaging>=20.0 in d:\\campus\\semester8\\research model creation\\youtube_comments_analyse\\env\\lib\\site-packages (from accelerate) (25.0)\n",
      "Requirement already satisfied: psutil in d:\\campus\\semester8\\research model creation\\youtube_comments_analyse\\env\\lib\\site-packages (from accelerate) (7.0.0)\n",
      "Requirement already satisfied: pyyaml in d:\\campus\\semester8\\research model creation\\youtube_comments_analyse\\env\\lib\\site-packages (from accelerate) (6.0.2)\n",
      "Requirement already satisfied: torch>=2.0.0 in d:\\campus\\semester8\\research model creation\\youtube_comments_analyse\\env\\lib\\site-packages (from accelerate) (2.7.1+cu118)\n",
      "Requirement already satisfied: huggingface_hub>=0.21.0 in d:\\campus\\semester8\\research model creation\\youtube_comments_analyse\\env\\lib\\site-packages (from accelerate) (0.33.4)\n",
      "Requirement already satisfied: safetensors>=0.4.3 in d:\\campus\\semester8\\research model creation\\youtube_comments_analyse\\env\\lib\\site-packages (from accelerate) (0.5.3)\n",
      "Requirement already satisfied: filelock in d:\\campus\\semester8\\research model creation\\youtube_comments_analyse\\env\\lib\\site-packages (from huggingface_hub>=0.21.0->accelerate) (3.18.0)\n",
      "Requirement already satisfied: fsspec>=2023.5.0 in d:\\campus\\semester8\\research model creation\\youtube_comments_analyse\\env\\lib\\site-packages (from huggingface_hub>=0.21.0->accelerate) (2025.3.0)\n",
      "Requirement already satisfied: requests in d:\\campus\\semester8\\research model creation\\youtube_comments_analyse\\env\\lib\\site-packages (from huggingface_hub>=0.21.0->accelerate) (2.32.4)\n",
      "Requirement already satisfied: tqdm>=4.42.1 in d:\\campus\\semester8\\research model creation\\youtube_comments_analyse\\env\\lib\\site-packages (from huggingface_hub>=0.21.0->accelerate) (4.67.1)\n",
      "Requirement already satisfied: typing-extensions>=3.7.4.3 in d:\\campus\\semester8\\research model creation\\youtube_comments_analyse\\env\\lib\\site-packages (from huggingface_hub>=0.21.0->accelerate) (4.14.1)\n",
      "Requirement already satisfied: sympy>=1.13.3 in d:\\campus\\semester8\\research model creation\\youtube_comments_analyse\\env\\lib\\site-packages (from torch>=2.0.0->accelerate) (1.14.0)\n",
      "Requirement already satisfied: networkx in d:\\campus\\semester8\\research model creation\\youtube_comments_analyse\\env\\lib\\site-packages (from torch>=2.0.0->accelerate) (3.4.2)\n",
      "Requirement already satisfied: jinja2 in d:\\campus\\semester8\\research model creation\\youtube_comments_analyse\\env\\lib\\site-packages (from torch>=2.0.0->accelerate) (3.1.6)\n",
      "Requirement already satisfied: mpmath<1.4,>=1.1.0 in d:\\campus\\semester8\\research model creation\\youtube_comments_analyse\\env\\lib\\site-packages (from sympy>=1.13.3->torch>=2.0.0->accelerate) (1.3.0)\n",
      "Requirement already satisfied: colorama in d:\\campus\\semester8\\research model creation\\youtube_comments_analyse\\env\\lib\\site-packages (from tqdm>=4.42.1->huggingface_hub>=0.21.0->accelerate) (0.4.6)\n",
      "Requirement already satisfied: MarkupSafe>=2.0 in d:\\campus\\semester8\\research model creation\\youtube_comments_analyse\\env\\lib\\site-packages (from jinja2->torch>=2.0.0->accelerate) (3.0.2)\n",
      "Requirement already satisfied: charset_normalizer<4,>=2 in d:\\campus\\semester8\\research model creation\\youtube_comments_analyse\\env\\lib\\site-packages (from requests->huggingface_hub>=0.21.0->accelerate) (3.4.2)\n",
      "Requirement already satisfied: idna<4,>=2.5 in d:\\campus\\semester8\\research model creation\\youtube_comments_analyse\\env\\lib\\site-packages (from requests->huggingface_hub>=0.21.0->accelerate) (3.10)\n",
      "Requirement already satisfied: urllib3<3,>=1.21.1 in d:\\campus\\semester8\\research model creation\\youtube_comments_analyse\\env\\lib\\site-packages (from requests->huggingface_hub>=0.21.0->accelerate) (2.5.0)\n",
      "Requirement already satisfied: certifi>=2017.4.17 in d:\\campus\\semester8\\research model creation\\youtube_comments_analyse\\env\\lib\\site-packages (from requests->huggingface_hub>=0.21.0->accelerate) (2025.7.14)\n",
      "Downloading accelerate-1.8.1-py3-none-any.whl (365 kB)\n",
      "Installing collected packages: accelerate\n",
      "Successfully installed accelerate-1.8.1\n"
     ]
    },
    {
     "name": "stderr",
     "output_type": "stream",
     "text": [
      "\n",
      "[notice] A new release of pip is available: 25.0.1 -> 25.1.1\n",
      "[notice] To update, run: python.exe -m pip install --upgrade pip\n"
     ]
    }
   ],
   "source": [
    "!pip install -U accelerate\n"
   ]
  },
  {
   "cell_type": "code",
   "execution_count": 3,
   "id": "c6874fc3-d096-4ea3-85fc-1c7e69f18334",
   "metadata": {},
   "outputs": [
    {
     "name": "stdout",
     "output_type": "stream",
     "text": [
      "2.7.1+cu118\n",
      "True\n",
      "NVIDIA GeForce GTX 1650\n"
     ]
    }
   ],
   "source": [
    "import torch\n",
    "print(torch.__version__)\n",
    "print(torch.cuda.is_available())  # should be True\n",
    "print(torch.cuda.get_device_name(0))  # should print your GPU name\n"
   ]
  },
  {
   "cell_type": "code",
   "execution_count": 4,
   "id": "707f5f83-cf16-461c-974b-0bb737eb727f",
   "metadata": {},
   "outputs": [],
   "source": [
    "import pandas as pd\n",
    "import numpy as np\n",
    "import torch\n"
   ]
  },
  {
   "cell_type": "code",
   "execution_count": 5,
   "id": "005bf868-46b2-4522-bb98-1438bac2b3ad",
   "metadata": {},
   "outputs": [],
   "source": [
    "data = pd.read_csv('../artifacts/preprocessed_comment_dataset.csv',keep_default_na=False)\n",
    "data['label'] = data['label'].astype(str)"
   ]
  },
  {
   "cell_type": "code",
   "execution_count": 6,
   "id": "5f839b5e-3ade-4203-a84a-9499d07bb61c",
   "metadata": {},
   "outputs": [
    {
     "name": "stdout",
     "output_type": "stream",
     "text": [
      "['BaseballBat' 'HitAndRun' 'LipKissing' 'BombExplotionInPublic'\n",
      " 'KillCowWithKnife' 'None']\n"
     ]
    }
   ],
   "source": [
    "print(data['label'].unique())"
   ]
  },
  {
   "cell_type": "code",
   "execution_count": 7,
   "id": "c303efaa-f452-4941-b474-9498dbdd33a2",
   "metadata": {},
   "outputs": [
    {
     "data": {
      "text/plain": [
       "(14023, 4)"
      ]
     },
     "execution_count": 7,
     "metadata": {},
     "output_type": "execute_result"
    }
   ],
   "source": [
    "data.shape"
   ]
  },
  {
   "cell_type": "code",
   "execution_count": 8,
   "id": "32d23adc-ccf6-426e-b338-d053647352d9",
   "metadata": {},
   "outputs": [
    {
     "data": {
      "text/html": [
       "<div>\n",
       "<style scoped>\n",
       "    .dataframe tbody tr th:only-of-type {\n",
       "        vertical-align: middle;\n",
       "    }\n",
       "\n",
       "    .dataframe tbody tr th {\n",
       "        vertical-align: top;\n",
       "    }\n",
       "\n",
       "    .dataframe thead th {\n",
       "        text-align: right;\n",
       "    }\n",
       "</style>\n",
       "<table border=\"1\" class=\"dataframe\">\n",
       "  <thead>\n",
       "    <tr style=\"text-align: right;\">\n",
       "      <th></th>\n",
       "      <th>id</th>\n",
       "      <th>comment</th>\n",
       "      <th>label</th>\n",
       "      <th>label_encoded</th>\n",
       "    </tr>\n",
       "  </thead>\n",
       "  <tbody>\n",
       "    <tr>\n",
       "      <th>0</th>\n",
       "      <td>1</td>\n",
       "      <td>මෑන් අයිඩීක් ඔබේ පරිගණක පිරිවිතර මොනවාද ඔබ නැව...</td>\n",
       "      <td>BaseballBat</td>\n",
       "      <td>0</td>\n",
       "    </tr>\n",
       "    <tr>\n",
       "      <th>1</th>\n",
       "      <td>2</td>\n",
       "      <td>සහෝදරයා ඔබට වෙව්ට කළේ කුමක්ද</td>\n",
       "      <td>BaseballBat</td>\n",
       "      <td>0</td>\n",
       "    </tr>\n",
       "    <tr>\n",
       "      <th>2</th>\n",
       "      <td>3</td>\n",
       "      <td>දුප්පත් විල්ලෙයි</td>\n",
       "      <td>BaseballBat</td>\n",
       "      <td>0</td>\n",
       "    </tr>\n",
       "    <tr>\n",
       "      <th>3</th>\n",
       "      <td>4</td>\n",
       "      <td>බ්රෝ කුරිරු යක්ෂයා පත් විය</td>\n",
       "      <td>BaseballBat</td>\n",
       "      <td>0</td>\n",
       "    </tr>\n",
       "    <tr>\n",
       "      <th>4</th>\n",
       "      <td>5</td>\n",
       "      <td>සහෝදරයා තම මිතුරා අපයෝජනය කරයි</td>\n",
       "      <td>BaseballBat</td>\n",
       "      <td>0</td>\n",
       "    </tr>\n",
       "  </tbody>\n",
       "</table>\n",
       "</div>"
      ],
      "text/plain": [
       "   id                                            comment        label  \\\n",
       "0   1  මෑන් අයිඩීක් ඔබේ පරිගණක පිරිවිතර මොනවාද ඔබ නැව...  BaseballBat   \n",
       "1   2                       සහෝදරයා ඔබට වෙව්ට කළේ කුමක්ද  BaseballBat   \n",
       "2   3                                   දුප්පත් විල්ලෙයි  BaseballBat   \n",
       "3   4                         බ්රෝ කුරිරු යක්ෂයා පත් විය  BaseballBat   \n",
       "4   5                     සහෝදරයා තම මිතුරා අපයෝජනය කරයි  BaseballBat   \n",
       "\n",
       "   label_encoded  \n",
       "0              0  \n",
       "1              0  \n",
       "2              0  \n",
       "3              0  \n",
       "4              0  "
      ]
     },
     "execution_count": 8,
     "metadata": {},
     "output_type": "execute_result"
    }
   ],
   "source": [
    "data.head()"
   ]
  },
  {
   "cell_type": "code",
   "execution_count": 19,
   "id": "1f3b11b1-6b17-48eb-9658-6b632df6618b",
   "metadata": {},
   "outputs": [
    {
     "data": {
      "text/html": [
       "<div>\n",
       "<style scoped>\n",
       "    .dataframe tbody tr th:only-of-type {\n",
       "        vertical-align: middle;\n",
       "    }\n",
       "\n",
       "    .dataframe tbody tr th {\n",
       "        vertical-align: top;\n",
       "    }\n",
       "\n",
       "    .dataframe thead th {\n",
       "        text-align: right;\n",
       "    }\n",
       "</style>\n",
       "<table border=\"1\" class=\"dataframe\">\n",
       "  <thead>\n",
       "    <tr style=\"text-align: right;\">\n",
       "      <th></th>\n",
       "      <th>id</th>\n",
       "      <th>comment</th>\n",
       "      <th>label</th>\n",
       "      <th>label_encoded</th>\n",
       "    </tr>\n",
       "  </thead>\n",
       "  <tbody>\n",
       "    <tr>\n",
       "      <th>14018</th>\n",
       "      <td>14019</td>\n",
       "      <td>හැරිම ලස්සන දවසක්</td>\n",
       "      <td>None</td>\n",
       "      <td>5</td>\n",
       "    </tr>\n",
       "    <tr>\n",
       "      <th>14019</th>\n",
       "      <td>14020</td>\n",
       "      <td>ඔයා හරිම හොදයි</td>\n",
       "      <td>None</td>\n",
       "      <td>5</td>\n",
       "    </tr>\n",
       "    <tr>\n",
       "      <th>14020</th>\n",
       "      <td>14021</td>\n",
       "      <td>ළමයා දක්ෂ ළමයෙක්</td>\n",
       "      <td>None</td>\n",
       "      <td>5</td>\n",
       "    </tr>\n",
       "    <tr>\n",
       "      <th>14021</th>\n",
       "      <td>14022</td>\n",
       "      <td>මෙතන මාර ලස්සනයි</td>\n",
       "      <td>None</td>\n",
       "      <td>5</td>\n",
       "    </tr>\n",
       "    <tr>\n",
       "      <th>14022</th>\n",
       "      <td>14023</td>\n",
       "      <td>ඔයා හොඳට ඉගෙන ගන්න</td>\n",
       "      <td>None</td>\n",
       "      <td>5</td>\n",
       "    </tr>\n",
       "  </tbody>\n",
       "</table>\n",
       "</div>"
      ],
      "text/plain": [
       "          id             comment label  label_encoded\n",
       "14018  14019   හැරිම ලස්සන දවසක්  None              5\n",
       "14019  14020      ඔයා හරිම හොදයි  None              5\n",
       "14020  14021    ළමයා දක්ෂ ළමයෙක්  None              5\n",
       "14021  14022    මෙතන මාර ලස්සනයි  None              5\n",
       "14022  14023  ඔයා හොඳට ඉගෙන ගන්න  None              5"
      ]
     },
     "execution_count": 19,
     "metadata": {},
     "output_type": "execute_result"
    }
   ],
   "source": [
    "data.tail()"
   ]
  },
  {
   "cell_type": "markdown",
   "id": "adbe9e25-0d60-4be8-bda7-884482be5f5d",
   "metadata": {},
   "source": [
    "####  Label Encoding"
   ]
  },
  {
   "cell_type": "code",
   "execution_count": 20,
   "id": "64742b95-d9a6-441a-b6f0-f1302493f63b",
   "metadata": {},
   "outputs": [],
   "source": [
    "from sklearn.preprocessing import LabelEncoder\n",
    "\n",
    "label_encoder = LabelEncoder()\n",
    "data['label_encoded'] = label_encoder.fit_transform(data['label'])"
   ]
  },
  {
   "cell_type": "markdown",
   "id": "b181a16e-480a-4c73-964f-d709f3df764e",
   "metadata": {},
   "source": [
    "#### Split Dataset"
   ]
  },
  {
   "cell_type": "code",
   "execution_count": 21,
   "id": "cb8744a9-604e-4fef-a313-18c78835350c",
   "metadata": {},
   "outputs": [],
   "source": [
    "from sklearn.model_selection import train_test_split\n",
    "\n",
    "train_texts, val_texts, train_labels, val_labels = train_test_split(\n",
    "    data['comment'].tolist(),\n",
    "    data['label_encoded'].tolist(),\n",
    "    test_size=0.2,\n",
    "    stratify=data['label_encoded'],\n",
    "    random_state=42\n",
    ")\n"
   ]
  },
  {
   "cell_type": "markdown",
   "id": "8210b180-f1d7-4101-b506-16539382966a",
   "metadata": {},
   "source": [
    "#### Tokenization"
   ]
  },
  {
   "cell_type": "code",
   "execution_count": 22,
   "id": "9ae4f041-6791-4f62-bd60-899b93e40fdd",
   "metadata": {},
   "outputs": [],
   "source": [
    "from transformers import AutoTokenizer\n",
    "\n",
    "tokenizer = AutoTokenizer.from_pretrained(\"xlm-roberta-base\")\n",
    "\n",
    "train_encodings = tokenizer(train_texts, truncation=True, padding=True, max_length=128)\n",
    "val_encodings = tokenizer(val_texts, truncation=True, padding=True, max_length=128)\n"
   ]
  },
  {
   "cell_type": "markdown",
   "id": "4e3f4064-d4f0-4016-a0ad-490d82d0a412",
   "metadata": {},
   "source": [
    "#### Dataset Preparation"
   ]
  },
  {
   "cell_type": "code",
   "execution_count": 23,
   "id": "c558b833-9786-4fe2-ac0f-e0c38444af9b",
   "metadata": {},
   "outputs": [],
   "source": [
    "class CommentDataset(torch.utils.data.Dataset):\n",
    "    def __init__(self, encodings, labels):\n",
    "        self.encodings = encodings\n",
    "        self.labels = labels\n",
    "\n",
    "    def __getitem__(self, idx):\n",
    "        item = {key: torch.tensor(val[idx]) for key, val in self.encodings.items()}\n",
    "        item['labels'] = torch.tensor(self.labels[idx])\n",
    "        return item\n",
    "\n",
    "    def __len__(self):\n",
    "        return len(self.labels)\n",
    "\n",
    "train_dataset = CommentDataset(train_encodings, train_labels)\n",
    "val_dataset = CommentDataset(val_encodings, val_labels)\n"
   ]
  },
  {
   "cell_type": "markdown",
   "id": "203b7f0a-3ff4-4d4d-b86f-b5bec6da42cd",
   "metadata": {},
   "source": [
    "####  Load Pretrained Model"
   ]
  },
  {
   "cell_type": "code",
   "execution_count": 24,
   "id": "74d1df30-f24e-491f-83f9-d6047191ddc2",
   "metadata": {},
   "outputs": [
    {
     "name": "stderr",
     "output_type": "stream",
     "text": [
      "Some weights of XLMRobertaForSequenceClassification were not initialized from the model checkpoint at xlm-roberta-base and are newly initialized: ['classifier.dense.bias', 'classifier.dense.weight', 'classifier.out_proj.bias', 'classifier.out_proj.weight']\n",
      "You should probably TRAIN this model on a down-stream task to be able to use it for predictions and inference.\n"
     ]
    }
   ],
   "source": [
    "from transformers import AutoModelForSequenceClassification\n",
    "\n",
    "model = AutoModelForSequenceClassification.from_pretrained(\"xlm-roberta-base\", num_labels=len(label_encoder.classes_))\n"
   ]
  },
  {
   "cell_type": "markdown",
   "id": "b6b8ef6c-a89b-45c3-aacb-c091f326144a",
   "metadata": {},
   "source": [
    "#### Compute Class Weights (For Imbalance Handling)"
   ]
  },
  {
   "cell_type": "code",
   "execution_count": 27,
   "id": "3cb927c4-2b1d-4e35-a67a-1e62c7345649",
   "metadata": {},
   "outputs": [],
   "source": [
    "class_counts = np.bincount(data['label_encoded'])\n",
    "class_weights = 1.0 / class_counts\n",
    "normalized_weights = class_weights / class_weights.sum()\n",
    "weights_tensor = torch.tensor(normalized_weights, dtype=torch.float)"
   ]
  },
  {
   "cell_type": "markdown",
   "id": "8a593bdb-567c-42a1-94ff-50655ce0b16c",
   "metadata": {},
   "source": [
    "#### Define Custom Weighted Trainer"
   ]
  },
  {
   "cell_type": "code",
   "execution_count": 28,
   "id": "d25e7079-e9ac-4b5f-9c3f-1570caf7c683",
   "metadata": {},
   "outputs": [],
   "source": [
    "from transformers import Trainer\n",
    "from torch.nn import CrossEntropyLoss\n",
    "\n",
    "class WeightedTrainer(Trainer):\n",
    "    def compute_loss(self, model, inputs, return_outputs=False, **kwargs):\n",
    "        labels = inputs.get(\"labels\")\n",
    "        outputs = model(**inputs)\n",
    "        logits = outputs.get(\"logits\")\n",
    "        loss_fct = CrossEntropyLoss(weight=weights_tensor.to(model.device))\n",
    "        loss = loss_fct(logits, labels)\n",
    "        return (loss, outputs) if return_outputs else loss\n"
   ]
  },
  {
   "cell_type": "markdown",
   "id": "71064dbf-df42-4513-b1a6-2be4cb5380ab",
   "metadata": {},
   "source": [
    "#### Define Training Arguments"
   ]
  },
  {
   "cell_type": "code",
   "execution_count": 29,
   "id": "f8fcf707-e26b-4b68-8e5e-7ee2d1a154e9",
   "metadata": {},
   "outputs": [],
   "source": [
    "from transformers import TrainingArguments, Trainer, EarlyStoppingCallback\n",
    "\n",
    "training_args = TrainingArguments(\n",
    "    output_dir=\"./results\",\n",
    "    eval_strategy=\"epoch\",\n",
    "    save_strategy=\"epoch\",\n",
    "    num_train_epochs=10,  # Increase for early stopping to kick in\n",
    "    per_device_train_batch_size=16,\n",
    "    per_device_eval_batch_size=16,\n",
    "    learning_rate=2e-5,\n",
    "    lr_scheduler_type='linear',  # <-- Scheduler\n",
    "    logging_dir=\"./logs\",\n",
    "    logging_steps=10,\n",
    "    load_best_model_at_end=True,\n",
    "    report_to=\"none\"\n",
    ")\n",
    "\n",
    "trainer = WeightedTrainer(\n",
    "    model=model,\n",
    "    args=training_args,\n",
    "    train_dataset=train_dataset,\n",
    "    eval_dataset=val_dataset,\n",
    "    callbacks=[EarlyStoppingCallback(early_stopping_patience=2)]  # stops if no improvement in 2 evals\n",
    ")\n"
   ]
  },
  {
   "cell_type": "code",
   "execution_count": 30,
   "id": "6fab7e74-e1ef-4b19-b8c5-2b8781985f31",
   "metadata": {},
   "outputs": [
    {
     "data": {
      "text/html": [
       "\n",
       "    <div>\n",
       "      \n",
       "      <progress value='3510' max='7020' style='width:300px; height:20px; vertical-align: middle;'></progress>\n",
       "      [3510/7020 7:17:12 < 7:17:27, 0.13 it/s, Epoch 5/10]\n",
       "    </div>\n",
       "    <table border=\"1\" class=\"dataframe\">\n",
       "  <thead>\n",
       " <tr style=\"text-align: left;\">\n",
       "      <th>Epoch</th>\n",
       "      <th>Training Loss</th>\n",
       "      <th>Validation Loss</th>\n",
       "    </tr>\n",
       "  </thead>\n",
       "  <tbody>\n",
       "    <tr>\n",
       "      <td>1</td>\n",
       "      <td>1.486300</td>\n",
       "      <td>1.428226</td>\n",
       "    </tr>\n",
       "    <tr>\n",
       "      <td>2</td>\n",
       "      <td>1.375100</td>\n",
       "      <td>1.299422</td>\n",
       "    </tr>\n",
       "    <tr>\n",
       "      <td>3</td>\n",
       "      <td>1.334100</td>\n",
       "      <td>1.239376</td>\n",
       "    </tr>\n",
       "    <tr>\n",
       "      <td>4</td>\n",
       "      <td>1.090300</td>\n",
       "      <td>1.259139</td>\n",
       "    </tr>\n",
       "    <tr>\n",
       "      <td>5</td>\n",
       "      <td>1.068700</td>\n",
       "      <td>1.249215</td>\n",
       "    </tr>\n",
       "  </tbody>\n",
       "</table><p>"
      ],
      "text/plain": [
       "<IPython.core.display.HTML object>"
      ]
     },
     "metadata": {},
     "output_type": "display_data"
    },
    {
     "data": {
      "text/plain": [
       "TrainOutput(global_step=3510, training_loss=1.2488652583880302, metrics={'train_runtime': 26240.3578, 'train_samples_per_second': 4.275, 'train_steps_per_second': 0.268, 'total_flos': 3689607279006720.0, 'train_loss': 1.2488652583880302, 'epoch': 5.0})"
      ]
     },
     "execution_count": 30,
     "metadata": {},
     "output_type": "execute_result"
    }
   ],
   "source": [
    "trainer.train() "
   ]
  },
  {
   "cell_type": "markdown",
   "id": "bdff3c10-a077-44fd-9b65-17a1c168b31f",
   "metadata": {},
   "source": [
    "# Evaluate the Model"
   ]
  },
  {
   "cell_type": "code",
   "execution_count": 31,
   "id": "29bd7529-d215-4a0d-b436-773d38769247",
   "metadata": {},
   "outputs": [
    {
     "data": {
      "text/html": [],
      "text/plain": [
       "<IPython.core.display.HTML object>"
      ]
     },
     "metadata": {},
     "output_type": "display_data"
    },
    {
     "name": "stdout",
     "output_type": "stream",
     "text": [
      "                       precision    recall  f1-score   support\n",
      "\n",
      "          BaseballBat       0.52      0.65      0.58       502\n",
      "BombExplotionInPublic       0.72      0.50      0.59       437\n",
      "            HitAndRun       0.50      0.59      0.54       479\n",
      "     KillCowWithKnife       0.61      0.59      0.60       449\n",
      "           LipKissing       0.44      0.52      0.47       398\n",
      "                 None       0.52      0.40      0.45       540\n",
      "\n",
      "             accuracy                           0.54      2805\n",
      "            macro avg       0.55      0.54      0.54      2805\n",
      "         weighted avg       0.55      0.54      0.54      2805\n",
      "\n"
     ]
    }
   ],
   "source": [
    "predictions = trainer.predict(val_dataset)\n",
    "preds = np.argmax(predictions.predictions, axis=1)\n",
    "\n",
    "from sklearn.metrics import classification_report\n",
    "print(classification_report(val_labels, preds, target_names=label_encoder.classes_))\n"
   ]
  },
  {
   "cell_type": "markdown",
   "id": "ddc484ef-100c-40a2-9870-6894a6b478b7",
   "metadata": {},
   "source": [
    "#### Confusion Matrix with Heatmap"
   ]
  },
  {
   "cell_type": "code",
   "execution_count": 39,
   "id": "4c3014d9-abcb-4ea0-ac49-bc975d784a82",
   "metadata": {},
   "outputs": [
    {
     "data": {
      "image/png": "[encoded data removed]",
      "text/plain": [
       "<Figure size 800x600 with 2 Axes>"
      ]
     },
     "metadata": {},
     "output_type": "display_data"
    }
   ],
   "source": [
    "import matplotlib.pyplot as plt\n",
    "import seaborn as sns\n",
    "from sklearn.metrics import confusion_matrix\n",
    "\n",
    "# Confusion Matrix\n",
    "cm = confusion_matrix(val_labels, preds)\n",
    "\n",
    "# Heatmap\n",
    "plt.figure(figsize=(8, 6))\n",
    "sns.heatmap(cm, annot=True, fmt=\"d\", cmap=\"Blues\",\n",
    "            xticklabels=label_encoder.classes_,\n",
    "            yticklabels=label_encoder.classes_)\n",
    "plt.xlabel(\"Predicted Label\")\n",
    "plt.ylabel(\"True Label\")\n",
    "plt.title(\"Confusion Matrix - XLM-RoBERTa\")\n",
    "plt.tight_layout()\n",
    "plt.show()\n"
   ]
  },
  {
   "cell_type": "markdown",
   "id": "426d2012-caa3-4f32-9329-9bb930538f41",
   "metadata": {},
   "source": [
    "#### Accuracy per Class"
   ]
  },
  {
   "cell_type": "code",
   "execution_count": 40,
   "id": "bd522a99-1226-492f-b50b-bc6d3f2081b1",
   "metadata": {},
   "outputs": [
    {
     "data": {
      "image/png": "[encoded data removed]",
      "text/plain": [
       "<Figure size 1000x500 with 1 Axes>"
      ]
     },
     "metadata": {},
     "output_type": "display_data"
    }
   ],
   "source": [
    "import numpy as np\n",
    "\n",
    "report = classification_report(val_labels, preds, target_names=label_encoder.classes_, output_dict=True)\n",
    "\n",
    "class_names = list(report.keys())[:-3]  # remove 'accuracy', 'macro avg', 'weighted avg'\n",
    "accuracies = [report[label]['f1-score'] for label in class_names]\n",
    "\n",
    "plt.figure(figsize=(10, 5))\n",
    "sns.barplot(x=class_names, y=accuracies)\n",
    "plt.ylim(0, 1)\n",
    "plt.ylabel(\"F1 Score\")\n",
    "plt.title(\"F1 Score per Category - XLM-RoBERTa\")\n",
    "plt.xticks(rotation=45)\n",
    "plt.tight_layout()\n",
    "plt.show()\n"
   ]
  },
  {
   "cell_type": "code",
   "execution_count": 41,
   "id": "be0dac7e-ed44-43f4-b91e-12283d76d61b",
   "metadata": {},
   "outputs": [
    {
     "data": {
      "image/png": "[encoded data removed]",
      "text/plain": [
       "<Figure size 640x480 with 1 Axes>"
      ]
     },
     "metadata": {},
     "output_type": "display_data"
    }
   ],
   "source": [
    "import pandas as pd\n",
    "\n",
    "val_series = pd.Series(val_labels)\n",
    "val_class_counts = val_series.value_counts().sort_index()\n",
    "plt.pie(val_class_counts, labels=label_encoder.classes_, autopct='%1.1f%%', startangle=140)\n",
    "plt.axis('equal')\n",
    "plt.title(\"Validation Data Distribution per Class\")\n",
    "plt.show()\n"
   ]
  },
  {
   "cell_type": "markdown",
   "id": "da5d7e45-4b23-4edd-b7d4-a57a7d8b29e2",
   "metadata": {},
   "source": [
    "#### Save the trained model and tokenizer"
   ]
  },
  {
   "cell_type": "code",
   "execution_count": 32,
   "id": "f295c5dd-fd84-4421-a077-5f904d4a1d39",
   "metadata": {},
   "outputs": [
    {
     "data": {
      "text/plain": [
       "('saved_model\\\\tokenizer_config.json',\n",
       " 'saved_model\\\\special_tokens_map.json',\n",
       " 'saved_model\\\\tokenizer.json')"
      ]
     },
     "execution_count": 32,
     "metadata": {},
     "output_type": "execute_result"
    }
   ],
   "source": [
    "model.save_pretrained(\"saved_model\")\n",
    "tokenizer.save_pretrained(\"saved_model\")\n"
   ]
  },
  {
   "cell_type": "code",
   "execution_count": 33,
   "id": "0a0f9c89-f9f8-4ead-a48c-7dd3cfcd6fcd",
   "metadata": {},
   "outputs": [
    {
     "data": {
      "text/plain": [
       "['saved_model/label_encoder.joblib']"
      ]
     },
     "execution_count": 33,
     "metadata": {},
     "output_type": "execute_result"
    }
   ],
   "source": [
    "import joblib\n",
    "\n",
    "# Save the LabelEncoder\n",
    "joblib.dump(label_encoder, \"saved_model/label_encoder.joblib\")"
   ]
  },
  {
   "cell_type": "markdown",
   "id": "71b56a19-6523-4f75-ae94-f13bf73a0677",
   "metadata": {},
   "source": [
    "#### Load the model for inference"
   ]
  },
  {
   "cell_type": "code",
   "execution_count": 34,
   "id": "321a3d25-70f2-4add-8266-6d1cfa3cc17e",
   "metadata": {},
   "outputs": [
    {
     "data": {
      "text/plain": [
       "XLMRobertaForSequenceClassification(\n",
       "  (roberta): XLMRobertaModel(\n",
       "    (embeddings): XLMRobertaEmbeddings(\n",
       "      (word_embeddings): Embedding(250002, 768, padding_idx=1)\n",
       "      (position_embeddings): Embedding(514, 768, padding_idx=1)\n",
       "      (token_type_embeddings): Embedding(1, 768)\n",
       "      (LayerNorm): LayerNorm((768,), eps=1e-05, elementwise_affine=True)\n",
       "      (dropout): Dropout(p=0.1, inplace=False)\n",
       "    )\n",
       "    (encoder): XLMRobertaEncoder(\n",
       "      (layer): ModuleList(\n",
       "        (0-11): 12 x XLMRobertaLayer(\n",
       "          (attention): XLMRobertaAttention(\n",
       "            (self): XLMRobertaSdpaSelfAttention(\n",
       "              (query): Linear(in_features=768, out_features=768, bias=True)\n",
       "              (key): Linear(in_features=768, out_features=768, bias=True)\n",
       "              (value): Linear(in_features=768, out_features=768, bias=True)\n",
       "              (dropout): Dropout(p=0.1, inplace=False)\n",
       "            )\n",
       "            (output): XLMRobertaSelfOutput(\n",
       "              (dense): Linear(in_features=768, out_features=768, bias=True)\n",
       "              (LayerNorm): LayerNorm((768,), eps=1e-05, elementwise_affine=True)\n",
       "              (dropout): Dropout(p=0.1, inplace=False)\n",
       "            )\n",
       "          )\n",
       "          (intermediate): XLMRobertaIntermediate(\n",
       "            (dense): Linear(in_features=768, out_features=3072, bias=True)\n",
       "            (intermediate_act_fn): GELUActivation()\n",
       "          )\n",
       "          (output): XLMRobertaOutput(\n",
       "            (dense): Linear(in_features=3072, out_features=768, bias=True)\n",
       "            (LayerNorm): LayerNorm((768,), eps=1e-05, elementwise_affine=True)\n",
       "            (dropout): Dropout(p=0.1, inplace=False)\n",
       "          )\n",
       "        )\n",
       "      )\n",
       "    )\n",
       "  )\n",
       "  (classifier): XLMRobertaClassificationHead(\n",
       "    (dense): Linear(in_features=768, out_features=768, bias=True)\n",
       "    (dropout): Dropout(p=0.1, inplace=False)\n",
       "    (out_proj): Linear(in_features=768, out_features=6, bias=True)\n",
       "  )\n",
       ")"
      ]
     },
     "execution_count": 34,
     "metadata": {},
     "output_type": "execute_result"
    }
   ],
   "source": [
    "from transformers import AutoModelForSequenceClassification, AutoTokenizer\n",
    "\n",
    "model = AutoModelForSequenceClassification.from_pretrained(\"saved_model\")\n",
    "tokenizer = AutoTokenizer.from_pretrained(\"saved_model\")\n",
    "\n",
    "model.eval()  # Put model in evaluation mode\n"
   ]
  },
  {
   "cell_type": "markdown",
   "id": "129e1d2a-f65a-4b99-98e6-3ab160b16d5c",
   "metadata": {},
   "source": [
    "#### Predict a new comment"
   ]
  },
  {
   "cell_type": "code",
   "execution_count": 38,
   "id": "e0003453-d353-4b18-a935-b0791ba39c2f",
   "metadata": {},
   "outputs": [
    {
     "data": {
      "text/plain": [
       "'BombExplotionInPublic'"
      ]
     },
     "execution_count": 38,
     "metadata": {},
     "output_type": "execute_result"
    }
   ],
   "source": [
    "def classify_comment(comment, model, tokenizer, label_encoder):\n",
    "    inputs = tokenizer(comment, return_tensors=\"pt\", truncation=True, padding=True, max_length=128)\n",
    "    with torch.no_grad():\n",
    "        outputs = model(**inputs)\n",
    "        logits = outputs.logits\n",
    "        predicted_class_id = torch.argmax(logits, dim=1).item()\n",
    "        return label_encoder.inverse_transform([predicted_class_id])[0]\n",
    "\n",
    "# Example\n",
    "classify_comment(\"බෝම්බ ගහලා මිනිස්සු නිකන් සත්තු වගෙ මරලා දානවා.\", model, tokenizer, label_encoder)\n"
   ]
  },
  {
   "cell_type": "code",
   "execution_count": null,
   "id": "df19696c-079e-4d0e-9678-c4c88708e8c9",
   "metadata": {},
   "outputs": [],
   "source": []
  }
 ],
 "metadata": {
  "kernelspec": {
   "display_name": "Python 3 (ipykernel)",
   "language": "python",
   "name": "python3"
  },
  "language_info": {
   "codemirror_mode": {
    "name": "ipython",
    "version": 3
   },
   "file_extension": ".py",
   "mimetype": "text/x-python",
   "name": "python",
   "nbconvert_exporter": "python",
   "pygments_lexer": "ipython3",
   "version": "3.10.0"
  }
 },
 "nbformat": 4,
 "nbformat_minor": 5
}
